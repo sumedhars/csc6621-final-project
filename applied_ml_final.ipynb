{
 "cells": [
  {
   "cell_type": "markdown",
   "metadata": {},
   "source": [
    "# CSC-6621: Final Project \n",
    "\n",
    "### Topic: Predicting Patient Readmission Rates using Random Forests and Gradient Boosting\n",
    "**Team Members:** Sumedha Sanjeev, Ethan Traas, Ben Paulson<br/>\n",
    "**Professor:** Dr. Berisha"
   ]
  },
  {
   "cell_type": "code",
   "execution_count": 175,
   "metadata": {},
   "outputs": [],
   "source": [
    "import pandas as pd\n",
    "import numpy as np\n",
    "from tqdm import tqdm"
   ]
  },
  {
   "cell_type": "markdown",
   "metadata": {},
   "source": [
    "## Part 1: Getting and Analyzing the Data\n",
    "As mentioned in our official proposal for exploring this domain, this data comes from [data.cms.gov](https://data.cms.gov/provider-data/dataset/9n3s-kdb3#data-table), formally named \"The Center of Medicare and Medicaid\". The following description is provided by CMS as part of the Hospital Readmissions Reduction Program:\n",
    "```text\n",
    "In October 2012, CMS began reducing Medicare payments for subsection(d) hospitals with excess readmissions under the Hospital Readmissions Reduction Program (HRRP). Excess readmissions are measured by a ratio, calculated by dividing a hospital's predicted rate of readmissions for heart attack (AMI), heart failure (HF), pneumonia, chronic obstructive pulmonary disease (COPD), hip/knee replacement (THA/TKA), and coronary artery bypass graft surgery (CABG) by the expected rate of readmissions, based on an average hospital with similar patients.\n",
    "```\n",
    "\n",
    "The data is provided in a CSV file, which we will download and explore in the following `Part 1` section. It is a public dataset, and this is the data description:\n",
    "* **Released:** December 10, 2020\n",
    "* **Last Updated:** July 31, 2024\n",
    "* **Rows:** 18774\n",
    "* **Features (12):**\n",
    "    * Facility Name\n",
    "    * Facility ID\n",
    "    * State\n",
    "    * Measure Name\n",
    "    * Number of Discharges\n",
    "    * Footnote\n",
    "    * Excess Readmission Ratio\n",
    "    * Predicted Readmission Rate\n",
    "    * Expected Readmission Rate\n",
    "    * Number of Readmissions\n",
    "    * Start Date\n",
    "    * End Date\n",
    "\n"
   ]
  },
  {
   "cell_type": "code",
   "execution_count": 176,
   "metadata": {},
   "outputs": [
    {
     "data": {
      "text/html": [
       "<div>\n",
       "<style scoped>\n",
       "    .dataframe tbody tr th:only-of-type {\n",
       "        vertical-align: middle;\n",
       "    }\n",
       "\n",
       "    .dataframe tbody tr th {\n",
       "        vertical-align: top;\n",
       "    }\n",
       "\n",
       "    .dataframe thead th {\n",
       "        text-align: right;\n",
       "    }\n",
       "</style>\n",
       "<table border=\"1\" class=\"dataframe\">\n",
       "  <thead>\n",
       "    <tr style=\"text-align: right;\">\n",
       "      <th></th>\n",
       "      <th>Facility Name</th>\n",
       "      <th>Facility ID</th>\n",
       "      <th>State</th>\n",
       "      <th>Measure Name</th>\n",
       "      <th>Number of Discharges</th>\n",
       "      <th>Footnote</th>\n",
       "      <th>Excess Readmission Ratio</th>\n",
       "      <th>Predicted Readmission Rate</th>\n",
       "      <th>Expected Readmission Rate</th>\n",
       "      <th>Number of Readmissions</th>\n",
       "      <th>Start Date</th>\n",
       "      <th>End Date</th>\n",
       "    </tr>\n",
       "  </thead>\n",
       "  <tbody>\n",
       "    <tr>\n",
       "      <th>0</th>\n",
       "      <td>SOUTHEAST HEALTH MEDICAL CENTER</td>\n",
       "      <td>10001</td>\n",
       "      <td>AL</td>\n",
       "      <td>READM-30-HIP-KNEE-HRRP</td>\n",
       "      <td>NaN</td>\n",
       "      <td>NaN</td>\n",
       "      <td>0.8916</td>\n",
       "      <td>3.5325</td>\n",
       "      <td>3.9618</td>\n",
       "      <td>Too Few to Report</td>\n",
       "      <td>07/01/2019</td>\n",
       "      <td>06/30/2022</td>\n",
       "    </tr>\n",
       "    <tr>\n",
       "      <th>1</th>\n",
       "      <td>SOUTHEAST HEALTH MEDICAL CENTER</td>\n",
       "      <td>10001</td>\n",
       "      <td>AL</td>\n",
       "      <td>READM-30-HF-HRRP</td>\n",
       "      <td>616.0</td>\n",
       "      <td>NaN</td>\n",
       "      <td>1.1003</td>\n",
       "      <td>23.1263</td>\n",
       "      <td>21.0184</td>\n",
       "      <td>149</td>\n",
       "      <td>07/01/2019</td>\n",
       "      <td>06/30/2022</td>\n",
       "    </tr>\n",
       "    <tr>\n",
       "      <th>2</th>\n",
       "      <td>SOUTHEAST HEALTH MEDICAL CENTER</td>\n",
       "      <td>10001</td>\n",
       "      <td>AL</td>\n",
       "      <td>READM-30-AMI-HRRP</td>\n",
       "      <td>274.0</td>\n",
       "      <td>NaN</td>\n",
       "      <td>0.9332</td>\n",
       "      <td>12.9044</td>\n",
       "      <td>13.8283</td>\n",
       "      <td>32</td>\n",
       "      <td>07/01/2019</td>\n",
       "      <td>06/30/2022</td>\n",
       "    </tr>\n",
       "    <tr>\n",
       "      <th>3</th>\n",
       "      <td>SOUTHEAST HEALTH MEDICAL CENTER</td>\n",
       "      <td>10001</td>\n",
       "      <td>AL</td>\n",
       "      <td>READM-30-PN-HRRP</td>\n",
       "      <td>404.0</td>\n",
       "      <td>NaN</td>\n",
       "      <td>0.9871</td>\n",
       "      <td>17.0529</td>\n",
       "      <td>17.2762</td>\n",
       "      <td>68</td>\n",
       "      <td>07/01/2019</td>\n",
       "      <td>06/30/2022</td>\n",
       "    </tr>\n",
       "    <tr>\n",
       "      <th>4</th>\n",
       "      <td>SOUTHEAST HEALTH MEDICAL CENTER</td>\n",
       "      <td>10001</td>\n",
       "      <td>AL</td>\n",
       "      <td>READM-30-CABG-HRRP</td>\n",
       "      <td>126.0</td>\n",
       "      <td>NaN</td>\n",
       "      <td>0.9517</td>\n",
       "      <td>9.8131</td>\n",
       "      <td>10.3112</td>\n",
       "      <td>11</td>\n",
       "      <td>07/01/2019</td>\n",
       "      <td>06/30/2022</td>\n",
       "    </tr>\n",
       "    <tr>\n",
       "      <th>...</th>\n",
       "      <td>...</td>\n",
       "      <td>...</td>\n",
       "      <td>...</td>\n",
       "      <td>...</td>\n",
       "      <td>...</td>\n",
       "      <td>...</td>\n",
       "      <td>...</td>\n",
       "      <td>...</td>\n",
       "      <td>...</td>\n",
       "      <td>...</td>\n",
       "      <td>...</td>\n",
       "      <td>...</td>\n",
       "    </tr>\n",
       "    <tr>\n",
       "      <th>18769</th>\n",
       "      <td>TRINITY REGIONAL HOSPITAL SACHSE</td>\n",
       "      <td>670319</td>\n",
       "      <td>TX</td>\n",
       "      <td>READM-30-HIP-KNEE-HRRP</td>\n",
       "      <td>NaN</td>\n",
       "      <td>5.0</td>\n",
       "      <td>NaN</td>\n",
       "      <td>NaN</td>\n",
       "      <td>NaN</td>\n",
       "      <td>NaN</td>\n",
       "      <td>07/01/2019</td>\n",
       "      <td>06/30/2022</td>\n",
       "    </tr>\n",
       "    <tr>\n",
       "      <th>18770</th>\n",
       "      <td>TRINITY REGIONAL HOSPITAL SACHSE</td>\n",
       "      <td>670319</td>\n",
       "      <td>TX</td>\n",
       "      <td>READM-30-HF-HRRP</td>\n",
       "      <td>NaN</td>\n",
       "      <td>1.0</td>\n",
       "      <td>NaN</td>\n",
       "      <td>NaN</td>\n",
       "      <td>NaN</td>\n",
       "      <td>NaN</td>\n",
       "      <td>07/01/2019</td>\n",
       "      <td>06/30/2022</td>\n",
       "    </tr>\n",
       "    <tr>\n",
       "      <th>18771</th>\n",
       "      <td>TRINITY REGIONAL HOSPITAL SACHSE</td>\n",
       "      <td>670319</td>\n",
       "      <td>TX</td>\n",
       "      <td>READM-30-COPD-HRRP</td>\n",
       "      <td>NaN</td>\n",
       "      <td>5.0</td>\n",
       "      <td>NaN</td>\n",
       "      <td>NaN</td>\n",
       "      <td>NaN</td>\n",
       "      <td>NaN</td>\n",
       "      <td>07/01/2019</td>\n",
       "      <td>06/30/2022</td>\n",
       "    </tr>\n",
       "    <tr>\n",
       "      <th>18772</th>\n",
       "      <td>TRINITY REGIONAL HOSPITAL SACHSE</td>\n",
       "      <td>670319</td>\n",
       "      <td>TX</td>\n",
       "      <td>READM-30-CABG-HRRP</td>\n",
       "      <td>NaN</td>\n",
       "      <td>5.0</td>\n",
       "      <td>NaN</td>\n",
       "      <td>NaN</td>\n",
       "      <td>NaN</td>\n",
       "      <td>NaN</td>\n",
       "      <td>07/01/2019</td>\n",
       "      <td>06/30/2022</td>\n",
       "    </tr>\n",
       "    <tr>\n",
       "      <th>18773</th>\n",
       "      <td>TRINITY REGIONAL HOSPITAL SACHSE</td>\n",
       "      <td>670319</td>\n",
       "      <td>TX</td>\n",
       "      <td>READM-30-AMI-HRRP</td>\n",
       "      <td>NaN</td>\n",
       "      <td>5.0</td>\n",
       "      <td>NaN</td>\n",
       "      <td>NaN</td>\n",
       "      <td>NaN</td>\n",
       "      <td>NaN</td>\n",
       "      <td>07/01/2019</td>\n",
       "      <td>06/30/2022</td>\n",
       "    </tr>\n",
       "  </tbody>\n",
       "</table>\n",
       "<p>18774 rows × 12 columns</p>\n",
       "</div>"
      ],
      "text/plain": [
       "                          Facility Name  Facility ID State  \\\n",
       "0       SOUTHEAST HEALTH MEDICAL CENTER        10001    AL   \n",
       "1       SOUTHEAST HEALTH MEDICAL CENTER        10001    AL   \n",
       "2       SOUTHEAST HEALTH MEDICAL CENTER        10001    AL   \n",
       "3       SOUTHEAST HEALTH MEDICAL CENTER        10001    AL   \n",
       "4       SOUTHEAST HEALTH MEDICAL CENTER        10001    AL   \n",
       "...                                 ...          ...   ...   \n",
       "18769  TRINITY REGIONAL HOSPITAL SACHSE       670319    TX   \n",
       "18770  TRINITY REGIONAL HOSPITAL SACHSE       670319    TX   \n",
       "18771  TRINITY REGIONAL HOSPITAL SACHSE       670319    TX   \n",
       "18772  TRINITY REGIONAL HOSPITAL SACHSE       670319    TX   \n",
       "18773  TRINITY REGIONAL HOSPITAL SACHSE       670319    TX   \n",
       "\n",
       "                 Measure Name  Number of Discharges  Footnote  \\\n",
       "0      READM-30-HIP-KNEE-HRRP                   NaN       NaN   \n",
       "1            READM-30-HF-HRRP                 616.0       NaN   \n",
       "2           READM-30-AMI-HRRP                 274.0       NaN   \n",
       "3            READM-30-PN-HRRP                 404.0       NaN   \n",
       "4          READM-30-CABG-HRRP                 126.0       NaN   \n",
       "...                       ...                   ...       ...   \n",
       "18769  READM-30-HIP-KNEE-HRRP                   NaN       5.0   \n",
       "18770        READM-30-HF-HRRP                   NaN       1.0   \n",
       "18771      READM-30-COPD-HRRP                   NaN       5.0   \n",
       "18772      READM-30-CABG-HRRP                   NaN       5.0   \n",
       "18773       READM-30-AMI-HRRP                   NaN       5.0   \n",
       "\n",
       "       Excess Readmission Ratio  Predicted Readmission Rate  \\\n",
       "0                        0.8916                      3.5325   \n",
       "1                        1.1003                     23.1263   \n",
       "2                        0.9332                     12.9044   \n",
       "3                        0.9871                     17.0529   \n",
       "4                        0.9517                      9.8131   \n",
       "...                         ...                         ...   \n",
       "18769                       NaN                         NaN   \n",
       "18770                       NaN                         NaN   \n",
       "18771                       NaN                         NaN   \n",
       "18772                       NaN                         NaN   \n",
       "18773                       NaN                         NaN   \n",
       "\n",
       "       Expected Readmission Rate Number of Readmissions  Start Date  \\\n",
       "0                         3.9618      Too Few to Report  07/01/2019   \n",
       "1                        21.0184                    149  07/01/2019   \n",
       "2                        13.8283                     32  07/01/2019   \n",
       "3                        17.2762                     68  07/01/2019   \n",
       "4                        10.3112                     11  07/01/2019   \n",
       "...                          ...                    ...         ...   \n",
       "18769                        NaN                    NaN  07/01/2019   \n",
       "18770                        NaN                    NaN  07/01/2019   \n",
       "18771                        NaN                    NaN  07/01/2019   \n",
       "18772                        NaN                    NaN  07/01/2019   \n",
       "18773                        NaN                    NaN  07/01/2019   \n",
       "\n",
       "         End Date  \n",
       "0      06/30/2022  \n",
       "1      06/30/2022  \n",
       "2      06/30/2022  \n",
       "3      06/30/2022  \n",
       "4      06/30/2022  \n",
       "...           ...  \n",
       "18769  06/30/2022  \n",
       "18770  06/30/2022  \n",
       "18771  06/30/2022  \n",
       "18772  06/30/2022  \n",
       "18773  06/30/2022  \n",
       "\n",
       "[18774 rows x 12 columns]"
      ]
     },
     "execution_count": 176,
     "metadata": {},
     "output_type": "execute_result"
    }
   ],
   "source": [
    "data = pd.read_csv('raw-data/FY_2024_Hospital_Readmissions_Reduction_Program_Hospital.csv')\n",
    "data"
   ]
  },
  {
   "cell_type": "code",
   "execution_count": 177,
   "metadata": {},
   "outputs": [
    {
     "name": "stdout",
     "output_type": "stream",
     "text": [
      "Facility Name                  object\n",
      "Facility ID                     int64\n",
      "State                          object\n",
      "Measure Name                   object\n",
      "Number of Discharges          float64\n",
      "Footnote                      float64\n",
      "Excess Readmission Ratio      float64\n",
      "Predicted Readmission Rate    float64\n",
      "Expected Readmission Rate     float64\n",
      "Number of Readmissions         object\n",
      "Start Date                     object\n",
      "End Date                       object\n",
      "dtype: object\n"
     ]
    }
   ],
   "source": [
    "print(data.dtypes)"
   ]
  },
  {
   "cell_type": "code",
   "execution_count": 178,
   "metadata": {},
   "outputs": [
    {
     "name": "stdout",
     "output_type": "stream",
     "text": [
      "         Facility ID  Number of Discharges     Footnote  \\\n",
      "count   18774.000000           8094.000000  6697.000000   \n",
      "mean   261506.077661            244.251915     3.147230   \n",
      "std    163743.437584            227.648660     2.084349   \n",
      "min     10001.000000              0.000000     1.000000   \n",
      "25%    110086.000000            105.000000     1.000000   \n",
      "50%    250049.000000            176.000000     5.000000   \n",
      "75%    390113.000000            308.000000     5.000000   \n",
      "max    670319.000000           4994.000000     7.000000   \n",
      "\n",
      "       Excess Readmission Ratio  Predicted Readmission Rate  \\\n",
      "count              12077.000000                12077.000000   \n",
      "mean                   1.001776                   15.098235   \n",
      "std                    0.077018                    5.480391   \n",
      "min                    0.615900                    1.927900   \n",
      "25%                    0.958000                   12.436800   \n",
      "50%                    0.997800                   16.485500   \n",
      "75%                    1.041900                   19.056700   \n",
      "max                    1.516200                   28.147200   \n",
      "\n",
      "       Expected Readmission Rate  \n",
      "count               12077.000000  \n",
      "mean                   15.066446  \n",
      "std                     5.354170  \n",
      "min                     2.674900  \n",
      "25%                    12.495800  \n",
      "50%                    16.571000  \n",
      "75%                    19.139000  \n",
      "max                    26.268400  \n"
     ]
    }
   ],
   "source": [
    "print(data.describe())\n"
   ]
  },
  {
   "cell_type": "markdown",
   "metadata": {},
   "source": [
    "## Part 2: Preprocessing the Data\n",
    "Because this data is supplied from a variety of sources across different hostpitals, it is not perfectly formatted yet in order to be used for machine learning. Therefore, we will need to preprocess the data before we can use it to train a model. The following steps will be taken to preprocess the data:\n",
    "* General data cleaning\n",
    "    * Remove leading \"READM-30-\" and trailing \"-HRRP\" from `Measure Name`\n",
    "    * Make a new column `Length of Stay` from `Start Date` and `End Date`\n",
    "* Handling missing/unhelpful values\n",
    "    * Drop columns with too many missing values\n",
    "    * Drop columns that are not useful (`Start Date`, `End Date` are all the same)\n",
    "* Encode categorical variables\n",
    "    * `Facility Name`, `State`, `Measure Name`\n",
    "* Standardize numerical variables (0-1)\n",
    "    * `Number of Discharges`, `Excess Readmission Ratio`, `Predicted Readmission Rate`, `Expected Readmission Rate`, `Number of Readmissions`\n",
    "* Define the target variable\n",
    "    * **Target:** `Predicted Readmission Rate`\n"
   ]
  },
  {
   "cell_type": "markdown",
   "metadata": {},
   "source": [
    "#### Part 2.1: General Data Cleaning"
   ]
  },
  {
   "cell_type": "code",
   "execution_count": 179,
   "metadata": {},
   "outputs": [],
   "source": [
    "# Cleaning the Measure Name column\n",
    "data['Measure Name'] = data['Measure Name'].str.replace('READM-30-', '')\n",
    "data['Measure Name'] = data['Measure Name'].str.replace('-HRRP', '')\n",
    "\n",
    "# Determining the length of stay\n",
    "data['Length of Stay'] = pd.to_datetime(data['End Date']) - pd.to_datetime(data['Start Date'])\n",
    "data['Length of Stay'] = data['Length of Stay'].dt.days"
   ]
  },
  {
   "cell_type": "markdown",
   "metadata": {},
   "source": [
    "#### Part 2.2: Remove Unhelpful Data\n",
    "* `StartDate` and `EndDate` are the same, so we can drop one of them\n",
    "* `Facility Name` is captured numerically by `Facility ID`"
   ]
  },
  {
   "cell_type": "code",
   "execution_count": 180,
   "metadata": {},
   "outputs": [],
   "source": [
    "# Drop the `Start Date` and `End Date` and 'Facility Name' columns\n",
    "data = data.drop(columns=['Start Date', 'End Date', 'Facility Name'])"
   ]
  },
  {
   "cell_type": "markdown",
   "metadata": {},
   "source": [
    "#### Part 2.3: Encode Categorical Variables"
   ]
  },
  {
   "cell_type": "code",
   "execution_count": 181,
   "metadata": {},
   "outputs": [],
   "source": [
    "# Encode categorical columns (Facility Name, State, Measure Name)\n",
    "data = pd.get_dummies(data, columns=['State', 'Measure Name'])"
   ]
  },
  {
   "cell_type": "markdown",
   "metadata": {},
   "source": [
    "#### Part 2.4: Standardize Numerical Variables"
   ]
  },
  {
   "cell_type": "code",
   "execution_count": 182,
   "metadata": {},
   "outputs": [],
   "source": [
    "# Standardize numerical values; 0-1 (Number of Discharges, Excess Readmission Ratio, Predicted Readmission Rate, Expected Readmission Rate, Number of Readmissions)\n",
    "\n",
    "# Convert any non-numeric values in above columns to NaN\n",
    "data['Number of Discharges'] = pd.to_numeric(data['Number of Discharges'], errors='coerce')\n",
    "data['Excess Readmission Ratio'] = pd.to_numeric(data['Excess Readmission Ratio'], errors='coerce')\n",
    "data['Predicted Readmission Rate'] = pd.to_numeric(data['Predicted Readmission Rate'], errors='coerce')\n",
    "data['Expected Readmission Rate'] = pd.to_numeric(data['Expected Readmission Rate'], errors='coerce')\n",
    "data['Number of Readmissions'] = pd.to_numeric(data['Number of Readmissions'], errors='coerce')\n",
    "\n",
    "# Standardize\n",
    "data['Number of Discharges'] = (data['Number of Discharges'] - data['Number of Discharges'].min()) / (data['Number of Discharges'].max() - data['Number of Discharges'].min())\n",
    "data['Excess Readmission Ratio'] = (data['Excess Readmission Ratio'] - data['Excess Readmission Ratio'].min()) / (data['Excess Readmission Ratio'].max() - data['Excess Readmission Ratio'].min())\n",
    "data['Predicted Readmission Rate'] = (data['Predicted Readmission Rate'] - data['Predicted Readmission Rate'].min()) / (data['Predicted Readmission Rate'].max() - data['Predicted Readmission Rate'].min())\n",
    "data['Expected Readmission Rate'] = (data['Expected Readmission Rate'] - data['Expected Readmission Rate'].min()) / (data['Expected Readmission Rate'].max() - data['Expected Readmission Rate'].min())\n",
    "data['Number of Readmissions'] = (data['Number of Readmissions'] - data['Number of Readmissions'].min()) / (data['Number of Readmissions'].max() - data['Number of Readmissions'].min())"
   ]
  },
  {
   "cell_type": "markdown",
   "metadata": {},
   "source": [
    "#### Part 2.5: Define the Target Variable"
   ]
  },
  {
   "cell_type": "code",
   "execution_count": 183,
   "metadata": {},
   "outputs": [],
   "source": [
    "# Identify the target variable\n",
    "data.rename(columns={'Predicted Readmission Rate': 'output'}, inplace=True)\n",
    "\n",
    "# Drop rows where the target variable is NaN\n",
    "data = data.dropna(subset=['output'])"
   ]
  },
  {
   "cell_type": "markdown",
   "metadata": {},
   "source": [
    "#### Part 2.6: Determine What to do with NaN Values\n",
    "\n",
    "`hit_list` is a list of the columns that have NaN values, as well as the percentage of that data which is NOT NaN\n",
    "```text\n",
    "('Number of Discharges', 65.33079407137534),\n",
    " ('Footnote', 0.0),\n",
    " ('Number of Readmissions', 65.33079407137534)]\n",
    " ```\n",
    "\n",
    " Depending on the model, we will either keep the NaN values or replace them with the average value of the column. For instance, one of the methods that will be tested (`XGBoost`) supports the interpretation of NaN."
   ]
  },
  {
   "cell_type": "code",
   "execution_count": 184,
   "metadata": {},
   "outputs": [],
   "source": [
    "# Identify which columns contain NaN values\n",
    "hit_list = []\n",
    "for column_name in list(data.columns):\n",
    "    data_without_na = data.dropna(subset=[column_name])\n",
    "    percentage = len(data_without_na) / len(data) * 100\n",
    "    if percentage != 100:\n",
    "        hit_list.append((column_name, percentage))\n",
    "\n",
    "for hit in hit_list:\n",
    "    if hit[1] < 50:\n",
    "        data = data.drop(columns=[hit[0]])\n",
    "    else:\n",
    "        data[hit[0]] = data[hit[0]].fillna(data[hit[0]].mean())"
   ]
  },
  {
   "cell_type": "markdown",
   "metadata": {},
   "source": [
    "#### Part 2.7: Get Data in State for SKLearn Models"
   ]
  },
  {
   "cell_type": "code",
   "execution_count": 185,
   "metadata": {},
   "outputs": [],
   "source": [
    "# Format data for sklearn model training\n",
    "data.to_csv('cleaned_data.csv', index=False)"
   ]
  },
  {
   "cell_type": "code",
   "execution_count": 186,
   "metadata": {},
   "outputs": [
    {
     "data": {
      "text/plain": [
       "12077"
      ]
     },
     "execution_count": 186,
     "metadata": {},
     "output_type": "execute_result"
    }
   ],
   "source": [
    "len(data)"
   ]
  },
  {
   "cell_type": "markdown",
   "metadata": {},
   "source": [
    "## Part 3: Baseline Model - Linear Regression"
   ]
  },
  {
   "cell_type": "markdown",
   "metadata": {},
   "source": [
    "The baseline model we will be using is Linear Regression. This model helps model the relationship between a dependent variable (output) and one or more independent variables (features) by fitting a linear equation to observed data. The goal is to predict the value of the dependent variable based on the values of the independent variables.\n",
    "\n",
    "To train the linear regression model, the following steps will be taken:\n",
    "- Split the data into training and testing sets\n",
    "- Train th Linear Regression model:\n",
    "    - Use the LinearRegression model from sklearn to fit the data.\n",
    "    - The model learns the relationship between the features and the target variable by minimizing the sum of squared residuals.\n",
    "- Evaluate the Model:\n",
    "    -Evaluate the model using Mean Squared Error (MSE) and R-squared (R²) metrics.\n",
    "    - MSE is the average of the squares of the errors between the predicted and actual values. A smaller MSE indicates better model performance.\n",
    "    - R² is the proportion of the variance in the dependent variable that is predictable from the independent variables. An R² value closer to 1 indicates a better fit."
   ]
  },
  {
   "cell_type": "code",
   "execution_count": 187,
   "metadata": {},
   "outputs": [],
   "source": [
    "from sklearn.model_selection import train_test_split\n",
    "from sklearn.linear_model import LinearRegression\n",
    "from sklearn.metrics import mean_squared_error, r2_score\n",
    "import matplotlib.pyplot as plt"
   ]
  },
  {
   "cell_type": "markdown",
   "metadata": {},
   "source": [
    "#### Part 3.1: Data Setup"
   ]
  },
  {
   "cell_type": "code",
   "execution_count": 188,
   "metadata": {},
   "outputs": [
    {
     "data": {
      "text/html": [
       "<div>\n",
       "<style scoped>\n",
       "    .dataframe tbody tr th:only-of-type {\n",
       "        vertical-align: middle;\n",
       "    }\n",
       "\n",
       "    .dataframe tbody tr th {\n",
       "        vertical-align: top;\n",
       "    }\n",
       "\n",
       "    .dataframe thead th {\n",
       "        text-align: right;\n",
       "    }\n",
       "</style>\n",
       "<table border=\"1\" class=\"dataframe\">\n",
       "  <thead>\n",
       "    <tr style=\"text-align: right;\">\n",
       "      <th></th>\n",
       "      <th>Facility ID</th>\n",
       "      <th>Number of Discharges</th>\n",
       "      <th>Excess Readmission Ratio</th>\n",
       "      <th>output</th>\n",
       "      <th>Expected Readmission Rate</th>\n",
       "      <th>Number of Readmissions</th>\n",
       "      <th>Length of Stay</th>\n",
       "      <th>State_AK</th>\n",
       "      <th>State_AL</th>\n",
       "      <th>State_AR</th>\n",
       "      <th>...</th>\n",
       "      <th>State_WA</th>\n",
       "      <th>State_WI</th>\n",
       "      <th>State_WV</th>\n",
       "      <th>State_WY</th>\n",
       "      <th>Measure Name_AMI</th>\n",
       "      <th>Measure Name_CABG</th>\n",
       "      <th>Measure Name_COPD</th>\n",
       "      <th>Measure Name_HF</th>\n",
       "      <th>Measure Name_HIP-KNEE</th>\n",
       "      <th>Measure Name_PN</th>\n",
       "    </tr>\n",
       "  </thead>\n",
       "  <tbody>\n",
       "    <tr>\n",
       "      <th>0</th>\n",
       "      <td>10001</td>\n",
       "      <td>0.050174</td>\n",
       "      <td>0.306231</td>\n",
       "      <td>0.061199</td>\n",
       "      <td>0.054545</td>\n",
       "      <td>0.046298</td>\n",
       "      <td>1095</td>\n",
       "      <td>False</td>\n",
       "      <td>True</td>\n",
       "      <td>False</td>\n",
       "      <td>...</td>\n",
       "      <td>False</td>\n",
       "      <td>False</td>\n",
       "      <td>False</td>\n",
       "      <td>False</td>\n",
       "      <td>False</td>\n",
       "      <td>False</td>\n",
       "      <td>False</td>\n",
       "      <td>False</td>\n",
       "      <td>True</td>\n",
       "      <td>False</td>\n",
       "    </tr>\n",
       "    <tr>\n",
       "      <th>1</th>\n",
       "      <td>10001</td>\n",
       "      <td>0.123348</td>\n",
       "      <td>0.538043</td>\n",
       "      <td>0.808504</td>\n",
       "      <td>0.777481</td>\n",
       "      <td>0.203240</td>\n",
       "      <td>1095</td>\n",
       "      <td>False</td>\n",
       "      <td>True</td>\n",
       "      <td>False</td>\n",
       "      <td>...</td>\n",
       "      <td>False</td>\n",
       "      <td>False</td>\n",
       "      <td>False</td>\n",
       "      <td>False</td>\n",
       "      <td>False</td>\n",
       "      <td>False</td>\n",
       "      <td>False</td>\n",
       "      <td>True</td>\n",
       "      <td>False</td>\n",
       "      <td>False</td>\n",
       "    </tr>\n",
       "    <tr>\n",
       "      <th>2</th>\n",
       "      <td>10001</td>\n",
       "      <td>0.054866</td>\n",
       "      <td>0.352438</td>\n",
       "      <td>0.418642</td>\n",
       "      <td>0.472732</td>\n",
       "      <td>0.030928</td>\n",
       "      <td>1095</td>\n",
       "      <td>False</td>\n",
       "      <td>True</td>\n",
       "      <td>False</td>\n",
       "      <td>...</td>\n",
       "      <td>False</td>\n",
       "      <td>False</td>\n",
       "      <td>False</td>\n",
       "      <td>False</td>\n",
       "      <td>True</td>\n",
       "      <td>False</td>\n",
       "      <td>False</td>\n",
       "      <td>False</td>\n",
       "      <td>False</td>\n",
       "      <td>False</td>\n",
       "    </tr>\n",
       "    <tr>\n",
       "      <th>3</th>\n",
       "      <td>10001</td>\n",
       "      <td>0.080897</td>\n",
       "      <td>0.412307</td>\n",
       "      <td>0.576865</td>\n",
       "      <td>0.618870</td>\n",
       "      <td>0.083947</td>\n",
       "      <td>1095</td>\n",
       "      <td>False</td>\n",
       "      <td>True</td>\n",
       "      <td>False</td>\n",
       "      <td>...</td>\n",
       "      <td>False</td>\n",
       "      <td>False</td>\n",
       "      <td>False</td>\n",
       "      <td>False</td>\n",
       "      <td>False</td>\n",
       "      <td>False</td>\n",
       "      <td>False</td>\n",
       "      <td>False</td>\n",
       "      <td>False</td>\n",
       "      <td>True</td>\n",
       "    </tr>\n",
       "    <tr>\n",
       "      <th>4</th>\n",
       "      <td>10001</td>\n",
       "      <td>0.025230</td>\n",
       "      <td>0.372987</td>\n",
       "      <td>0.300740</td>\n",
       "      <td>0.323661</td>\n",
       "      <td>0.000000</td>\n",
       "      <td>1095</td>\n",
       "      <td>False</td>\n",
       "      <td>True</td>\n",
       "      <td>False</td>\n",
       "      <td>...</td>\n",
       "      <td>False</td>\n",
       "      <td>False</td>\n",
       "      <td>False</td>\n",
       "      <td>False</td>\n",
       "      <td>False</td>\n",
       "      <td>True</td>\n",
       "      <td>False</td>\n",
       "      <td>False</td>\n",
       "      <td>False</td>\n",
       "      <td>False</td>\n",
       "    </tr>\n",
       "  </tbody>\n",
       "</table>\n",
       "<p>5 rows × 64 columns</p>\n",
       "</div>"
      ],
      "text/plain": [
       "   Facility ID  Number of Discharges  Excess Readmission Ratio    output  \\\n",
       "0        10001              0.050174                  0.306231  0.061199   \n",
       "1        10001              0.123348                  0.538043  0.808504   \n",
       "2        10001              0.054866                  0.352438  0.418642   \n",
       "3        10001              0.080897                  0.412307  0.576865   \n",
       "4        10001              0.025230                  0.372987  0.300740   \n",
       "\n",
       "   Expected Readmission Rate  Number of Readmissions  Length of Stay  \\\n",
       "0                   0.054545                0.046298            1095   \n",
       "1                   0.777481                0.203240            1095   \n",
       "2                   0.472732                0.030928            1095   \n",
       "3                   0.618870                0.083947            1095   \n",
       "4                   0.323661                0.000000            1095   \n",
       "\n",
       "   State_AK  State_AL  State_AR  ...  State_WA  State_WI  State_WV  State_WY  \\\n",
       "0     False      True     False  ...     False     False     False     False   \n",
       "1     False      True     False  ...     False     False     False     False   \n",
       "2     False      True     False  ...     False     False     False     False   \n",
       "3     False      True     False  ...     False     False     False     False   \n",
       "4     False      True     False  ...     False     False     False     False   \n",
       "\n",
       "   Measure Name_AMI  Measure Name_CABG  Measure Name_COPD  Measure Name_HF  \\\n",
       "0             False              False              False            False   \n",
       "1             False              False              False             True   \n",
       "2              True              False              False            False   \n",
       "3             False              False              False            False   \n",
       "4             False               True              False            False   \n",
       "\n",
       "   Measure Name_HIP-KNEE  Measure Name_PN  \n",
       "0                   True            False  \n",
       "1                  False            False  \n",
       "2                  False            False  \n",
       "3                  False             True  \n",
       "4                  False            False  \n",
       "\n",
       "[5 rows x 64 columns]"
      ]
     },
     "execution_count": 188,
     "metadata": {},
     "output_type": "execute_result"
    }
   ],
   "source": [
    "data = pd.read_csv('cleaned_data.csv')\n",
    "data.head()"
   ]
  },
  {
   "cell_type": "code",
   "execution_count": 189,
   "metadata": {},
   "outputs": [],
   "source": [
    "# Split the data into training and testing sets\n",
    "X = data.drop(columns=['output'])\n",
    "y = data['output']\n",
    "X_train, X_test, y_train, y_test = train_test_split(X, y, test_size=0.2)"
   ]
  },
  {
   "cell_type": "markdown",
   "metadata": {},
   "source": [
    "#### 3.2 Train a Linear Regression Model"
   ]
  },
  {
   "cell_type": "code",
   "execution_count": 190,
   "metadata": {},
   "outputs": [
    {
     "data": {
      "text/html": [
       "<style>#sk-container-id-10 {\n",
       "  /* Definition of color scheme common for light and dark mode */\n",
       "  --sklearn-color-text: black;\n",
       "  --sklearn-color-line: gray;\n",
       "  /* Definition of color scheme for unfitted estimators */\n",
       "  --sklearn-color-unfitted-level-0: #fff5e6;\n",
       "  --sklearn-color-unfitted-level-1: #f6e4d2;\n",
       "  --sklearn-color-unfitted-level-2: #ffe0b3;\n",
       "  --sklearn-color-unfitted-level-3: chocolate;\n",
       "  /* Definition of color scheme for fitted estimators */\n",
       "  --sklearn-color-fitted-level-0: #f0f8ff;\n",
       "  --sklearn-color-fitted-level-1: #d4ebff;\n",
       "  --sklearn-color-fitted-level-2: #b3dbfd;\n",
       "  --sklearn-color-fitted-level-3: cornflowerblue;\n",
       "\n",
       "  /* Specific color for light theme */\n",
       "  --sklearn-color-text-on-default-background: var(--sg-text-color, var(--theme-code-foreground, var(--jp-content-font-color1, black)));\n",
       "  --sklearn-color-background: var(--sg-background-color, var(--theme-background, var(--jp-layout-color0, white)));\n",
       "  --sklearn-color-border-box: var(--sg-text-color, var(--theme-code-foreground, var(--jp-content-font-color1, black)));\n",
       "  --sklearn-color-icon: #696969;\n",
       "\n",
       "  @media (prefers-color-scheme: dark) {\n",
       "    /* Redefinition of color scheme for dark theme */\n",
       "    --sklearn-color-text-on-default-background: var(--sg-text-color, var(--theme-code-foreground, var(--jp-content-font-color1, white)));\n",
       "    --sklearn-color-background: var(--sg-background-color, var(--theme-background, var(--jp-layout-color0, #111)));\n",
       "    --sklearn-color-border-box: var(--sg-text-color, var(--theme-code-foreground, var(--jp-content-font-color1, white)));\n",
       "    --sklearn-color-icon: #878787;\n",
       "  }\n",
       "}\n",
       "\n",
       "#sk-container-id-10 {\n",
       "  color: var(--sklearn-color-text);\n",
       "}\n",
       "\n",
       "#sk-container-id-10 pre {\n",
       "  padding: 0;\n",
       "}\n",
       "\n",
       "#sk-container-id-10 input.sk-hidden--visually {\n",
       "  border: 0;\n",
       "  clip: rect(1px 1px 1px 1px);\n",
       "  clip: rect(1px, 1px, 1px, 1px);\n",
       "  height: 1px;\n",
       "  margin: -1px;\n",
       "  overflow: hidden;\n",
       "  padding: 0;\n",
       "  position: absolute;\n",
       "  width: 1px;\n",
       "}\n",
       "\n",
       "#sk-container-id-10 div.sk-dashed-wrapped {\n",
       "  border: 1px dashed var(--sklearn-color-line);\n",
       "  margin: 0 0.4em 0.5em 0.4em;\n",
       "  box-sizing: border-box;\n",
       "  padding-bottom: 0.4em;\n",
       "  background-color: var(--sklearn-color-background);\n",
       "}\n",
       "\n",
       "#sk-container-id-10 div.sk-container {\n",
       "  /* jupyter's `normalize.less` sets `[hidden] { display: none; }`\n",
       "     but bootstrap.min.css set `[hidden] { display: none !important; }`\n",
       "     so we also need the `!important` here to be able to override the\n",
       "     default hidden behavior on the sphinx rendered scikit-learn.org.\n",
       "     See: https://github.com/scikit-learn/scikit-learn/issues/21755 */\n",
       "  display: inline-block !important;\n",
       "  position: relative;\n",
       "}\n",
       "\n",
       "#sk-container-id-10 div.sk-text-repr-fallback {\n",
       "  display: none;\n",
       "}\n",
       "\n",
       "div.sk-parallel-item,\n",
       "div.sk-serial,\n",
       "div.sk-item {\n",
       "  /* draw centered vertical line to link estimators */\n",
       "  background-image: linear-gradient(var(--sklearn-color-text-on-default-background), var(--sklearn-color-text-on-default-background));\n",
       "  background-size: 2px 100%;\n",
       "  background-repeat: no-repeat;\n",
       "  background-position: center center;\n",
       "}\n",
       "\n",
       "/* Parallel-specific style estimator block */\n",
       "\n",
       "#sk-container-id-10 div.sk-parallel-item::after {\n",
       "  content: \"\";\n",
       "  width: 100%;\n",
       "  border-bottom: 2px solid var(--sklearn-color-text-on-default-background);\n",
       "  flex-grow: 1;\n",
       "}\n",
       "\n",
       "#sk-container-id-10 div.sk-parallel {\n",
       "  display: flex;\n",
       "  align-items: stretch;\n",
       "  justify-content: center;\n",
       "  background-color: var(--sklearn-color-background);\n",
       "  position: relative;\n",
       "}\n",
       "\n",
       "#sk-container-id-10 div.sk-parallel-item {\n",
       "  display: flex;\n",
       "  flex-direction: column;\n",
       "}\n",
       "\n",
       "#sk-container-id-10 div.sk-parallel-item:first-child::after {\n",
       "  align-self: flex-end;\n",
       "  width: 50%;\n",
       "}\n",
       "\n",
       "#sk-container-id-10 div.sk-parallel-item:last-child::after {\n",
       "  align-self: flex-start;\n",
       "  width: 50%;\n",
       "}\n",
       "\n",
       "#sk-container-id-10 div.sk-parallel-item:only-child::after {\n",
       "  width: 0;\n",
       "}\n",
       "\n",
       "/* Serial-specific style estimator block */\n",
       "\n",
       "#sk-container-id-10 div.sk-serial {\n",
       "  display: flex;\n",
       "  flex-direction: column;\n",
       "  align-items: center;\n",
       "  background-color: var(--sklearn-color-background);\n",
       "  padding-right: 1em;\n",
       "  padding-left: 1em;\n",
       "}\n",
       "\n",
       "\n",
       "/* Toggleable style: style used for estimator/Pipeline/ColumnTransformer box that is\n",
       "clickable and can be expanded/collapsed.\n",
       "- Pipeline and ColumnTransformer use this feature and define the default style\n",
       "- Estimators will overwrite some part of the style using the `sk-estimator` class\n",
       "*/\n",
       "\n",
       "/* Pipeline and ColumnTransformer style (default) */\n",
       "\n",
       "#sk-container-id-10 div.sk-toggleable {\n",
       "  /* Default theme specific background. It is overwritten whether we have a\n",
       "  specific estimator or a Pipeline/ColumnTransformer */\n",
       "  background-color: var(--sklearn-color-background);\n",
       "}\n",
       "\n",
       "/* Toggleable label */\n",
       "#sk-container-id-10 label.sk-toggleable__label {\n",
       "  cursor: pointer;\n",
       "  display: block;\n",
       "  width: 100%;\n",
       "  margin-bottom: 0;\n",
       "  padding: 0.5em;\n",
       "  box-sizing: border-box;\n",
       "  text-align: center;\n",
       "}\n",
       "\n",
       "#sk-container-id-10 label.sk-toggleable__label-arrow:before {\n",
       "  /* Arrow on the left of the label */\n",
       "  content: \"▸\";\n",
       "  float: left;\n",
       "  margin-right: 0.25em;\n",
       "  color: var(--sklearn-color-icon);\n",
       "}\n",
       "\n",
       "#sk-container-id-10 label.sk-toggleable__label-arrow:hover:before {\n",
       "  color: var(--sklearn-color-text);\n",
       "}\n",
       "\n",
       "/* Toggleable content - dropdown */\n",
       "\n",
       "#sk-container-id-10 div.sk-toggleable__content {\n",
       "  max-height: 0;\n",
       "  max-width: 0;\n",
       "  overflow: hidden;\n",
       "  text-align: left;\n",
       "  /* unfitted */\n",
       "  background-color: var(--sklearn-color-unfitted-level-0);\n",
       "}\n",
       "\n",
       "#sk-container-id-10 div.sk-toggleable__content.fitted {\n",
       "  /* fitted */\n",
       "  background-color: var(--sklearn-color-fitted-level-0);\n",
       "}\n",
       "\n",
       "#sk-container-id-10 div.sk-toggleable__content pre {\n",
       "  margin: 0.2em;\n",
       "  border-radius: 0.25em;\n",
       "  color: var(--sklearn-color-text);\n",
       "  /* unfitted */\n",
       "  background-color: var(--sklearn-color-unfitted-level-0);\n",
       "}\n",
       "\n",
       "#sk-container-id-10 div.sk-toggleable__content.fitted pre {\n",
       "  /* unfitted */\n",
       "  background-color: var(--sklearn-color-fitted-level-0);\n",
       "}\n",
       "\n",
       "#sk-container-id-10 input.sk-toggleable__control:checked~div.sk-toggleable__content {\n",
       "  /* Expand drop-down */\n",
       "  max-height: 200px;\n",
       "  max-width: 100%;\n",
       "  overflow: auto;\n",
       "}\n",
       "\n",
       "#sk-container-id-10 input.sk-toggleable__control:checked~label.sk-toggleable__label-arrow:before {\n",
       "  content: \"▾\";\n",
       "}\n",
       "\n",
       "/* Pipeline/ColumnTransformer-specific style */\n",
       "\n",
       "#sk-container-id-10 div.sk-label input.sk-toggleable__control:checked~label.sk-toggleable__label {\n",
       "  color: var(--sklearn-color-text);\n",
       "  background-color: var(--sklearn-color-unfitted-level-2);\n",
       "}\n",
       "\n",
       "#sk-container-id-10 div.sk-label.fitted input.sk-toggleable__control:checked~label.sk-toggleable__label {\n",
       "  background-color: var(--sklearn-color-fitted-level-2);\n",
       "}\n",
       "\n",
       "/* Estimator-specific style */\n",
       "\n",
       "/* Colorize estimator box */\n",
       "#sk-container-id-10 div.sk-estimator input.sk-toggleable__control:checked~label.sk-toggleable__label {\n",
       "  /* unfitted */\n",
       "  background-color: var(--sklearn-color-unfitted-level-2);\n",
       "}\n",
       "\n",
       "#sk-container-id-10 div.sk-estimator.fitted input.sk-toggleable__control:checked~label.sk-toggleable__label {\n",
       "  /* fitted */\n",
       "  background-color: var(--sklearn-color-fitted-level-2);\n",
       "}\n",
       "\n",
       "#sk-container-id-10 div.sk-label label.sk-toggleable__label,\n",
       "#sk-container-id-10 div.sk-label label {\n",
       "  /* The background is the default theme color */\n",
       "  color: var(--sklearn-color-text-on-default-background);\n",
       "}\n",
       "\n",
       "/* On hover, darken the color of the background */\n",
       "#sk-container-id-10 div.sk-label:hover label.sk-toggleable__label {\n",
       "  color: var(--sklearn-color-text);\n",
       "  background-color: var(--sklearn-color-unfitted-level-2);\n",
       "}\n",
       "\n",
       "/* Label box, darken color on hover, fitted */\n",
       "#sk-container-id-10 div.sk-label.fitted:hover label.sk-toggleable__label.fitted {\n",
       "  color: var(--sklearn-color-text);\n",
       "  background-color: var(--sklearn-color-fitted-level-2);\n",
       "}\n",
       "\n",
       "/* Estimator label */\n",
       "\n",
       "#sk-container-id-10 div.sk-label label {\n",
       "  font-family: monospace;\n",
       "  font-weight: bold;\n",
       "  display: inline-block;\n",
       "  line-height: 1.2em;\n",
       "}\n",
       "\n",
       "#sk-container-id-10 div.sk-label-container {\n",
       "  text-align: center;\n",
       "}\n",
       "\n",
       "/* Estimator-specific */\n",
       "#sk-container-id-10 div.sk-estimator {\n",
       "  font-family: monospace;\n",
       "  border: 1px dotted var(--sklearn-color-border-box);\n",
       "  border-radius: 0.25em;\n",
       "  box-sizing: border-box;\n",
       "  margin-bottom: 0.5em;\n",
       "  /* unfitted */\n",
       "  background-color: var(--sklearn-color-unfitted-level-0);\n",
       "}\n",
       "\n",
       "#sk-container-id-10 div.sk-estimator.fitted {\n",
       "  /* fitted */\n",
       "  background-color: var(--sklearn-color-fitted-level-0);\n",
       "}\n",
       "\n",
       "/* on hover */\n",
       "#sk-container-id-10 div.sk-estimator:hover {\n",
       "  /* unfitted */\n",
       "  background-color: var(--sklearn-color-unfitted-level-2);\n",
       "}\n",
       "\n",
       "#sk-container-id-10 div.sk-estimator.fitted:hover {\n",
       "  /* fitted */\n",
       "  background-color: var(--sklearn-color-fitted-level-2);\n",
       "}\n",
       "\n",
       "/* Specification for estimator info (e.g. \"i\" and \"?\") */\n",
       "\n",
       "/* Common style for \"i\" and \"?\" */\n",
       "\n",
       ".sk-estimator-doc-link,\n",
       "a:link.sk-estimator-doc-link,\n",
       "a:visited.sk-estimator-doc-link {\n",
       "  float: right;\n",
       "  font-size: smaller;\n",
       "  line-height: 1em;\n",
       "  font-family: monospace;\n",
       "  background-color: var(--sklearn-color-background);\n",
       "  border-radius: 1em;\n",
       "  height: 1em;\n",
       "  width: 1em;\n",
       "  text-decoration: none !important;\n",
       "  margin-left: 1ex;\n",
       "  /* unfitted */\n",
       "  border: var(--sklearn-color-unfitted-level-1) 1pt solid;\n",
       "  color: var(--sklearn-color-unfitted-level-1);\n",
       "}\n",
       "\n",
       ".sk-estimator-doc-link.fitted,\n",
       "a:link.sk-estimator-doc-link.fitted,\n",
       "a:visited.sk-estimator-doc-link.fitted {\n",
       "  /* fitted */\n",
       "  border: var(--sklearn-color-fitted-level-1) 1pt solid;\n",
       "  color: var(--sklearn-color-fitted-level-1);\n",
       "}\n",
       "\n",
       "/* On hover */\n",
       "div.sk-estimator:hover .sk-estimator-doc-link:hover,\n",
       ".sk-estimator-doc-link:hover,\n",
       "div.sk-label-container:hover .sk-estimator-doc-link:hover,\n",
       ".sk-estimator-doc-link:hover {\n",
       "  /* unfitted */\n",
       "  background-color: var(--sklearn-color-unfitted-level-3);\n",
       "  color: var(--sklearn-color-background);\n",
       "  text-decoration: none;\n",
       "}\n",
       "\n",
       "div.sk-estimator.fitted:hover .sk-estimator-doc-link.fitted:hover,\n",
       ".sk-estimator-doc-link.fitted:hover,\n",
       "div.sk-label-container:hover .sk-estimator-doc-link.fitted:hover,\n",
       ".sk-estimator-doc-link.fitted:hover {\n",
       "  /* fitted */\n",
       "  background-color: var(--sklearn-color-fitted-level-3);\n",
       "  color: var(--sklearn-color-background);\n",
       "  text-decoration: none;\n",
       "}\n",
       "\n",
       "/* Span, style for the box shown on hovering the info icon */\n",
       ".sk-estimator-doc-link span {\n",
       "  display: none;\n",
       "  z-index: 9999;\n",
       "  position: relative;\n",
       "  font-weight: normal;\n",
       "  right: .2ex;\n",
       "  padding: .5ex;\n",
       "  margin: .5ex;\n",
       "  width: min-content;\n",
       "  min-width: 20ex;\n",
       "  max-width: 50ex;\n",
       "  color: var(--sklearn-color-text);\n",
       "  box-shadow: 2pt 2pt 4pt #999;\n",
       "  /* unfitted */\n",
       "  background: var(--sklearn-color-unfitted-level-0);\n",
       "  border: .5pt solid var(--sklearn-color-unfitted-level-3);\n",
       "}\n",
       "\n",
       ".sk-estimator-doc-link.fitted span {\n",
       "  /* fitted */\n",
       "  background: var(--sklearn-color-fitted-level-0);\n",
       "  border: var(--sklearn-color-fitted-level-3);\n",
       "}\n",
       "\n",
       ".sk-estimator-doc-link:hover span {\n",
       "  display: block;\n",
       "}\n",
       "\n",
       "/* \"?\"-specific style due to the `<a>` HTML tag */\n",
       "\n",
       "#sk-container-id-10 a.estimator_doc_link {\n",
       "  float: right;\n",
       "  font-size: 1rem;\n",
       "  line-height: 1em;\n",
       "  font-family: monospace;\n",
       "  background-color: var(--sklearn-color-background);\n",
       "  border-radius: 1rem;\n",
       "  height: 1rem;\n",
       "  width: 1rem;\n",
       "  text-decoration: none;\n",
       "  /* unfitted */\n",
       "  color: var(--sklearn-color-unfitted-level-1);\n",
       "  border: var(--sklearn-color-unfitted-level-1) 1pt solid;\n",
       "}\n",
       "\n",
       "#sk-container-id-10 a.estimator_doc_link.fitted {\n",
       "  /* fitted */\n",
       "  border: var(--sklearn-color-fitted-level-1) 1pt solid;\n",
       "  color: var(--sklearn-color-fitted-level-1);\n",
       "}\n",
       "\n",
       "/* On hover */\n",
       "#sk-container-id-10 a.estimator_doc_link:hover {\n",
       "  /* unfitted */\n",
       "  background-color: var(--sklearn-color-unfitted-level-3);\n",
       "  color: var(--sklearn-color-background);\n",
       "  text-decoration: none;\n",
       "}\n",
       "\n",
       "#sk-container-id-10 a.estimator_doc_link.fitted:hover {\n",
       "  /* fitted */\n",
       "  background-color: var(--sklearn-color-fitted-level-3);\n",
       "}\n",
       "</style><div id=\"sk-container-id-10\" class=\"sk-top-container\"><div class=\"sk-text-repr-fallback\"><pre>LinearRegression()</pre><b>In a Jupyter environment, please rerun this cell to show the HTML representation or trust the notebook. <br />On GitHub, the HTML representation is unable to render, please try loading this page with nbviewer.org.</b></div><div class=\"sk-container\" hidden><div class=\"sk-item\"><div class=\"sk-estimator fitted sk-toggleable\"><input class=\"sk-toggleable__control sk-hidden--visually\" id=\"sk-estimator-id-10\" type=\"checkbox\" checked><label for=\"sk-estimator-id-10\" class=\"sk-toggleable__label fitted sk-toggleable__label-arrow fitted\">&nbsp;&nbsp;LinearRegression<a class=\"sk-estimator-doc-link fitted\" rel=\"noreferrer\" target=\"_blank\" href=\"https://scikit-learn.org/1.4/modules/generated/sklearn.linear_model.LinearRegression.html\">?<span>Documentation for LinearRegression</span></a><span class=\"sk-estimator-doc-link fitted\">i<span>Fitted</span></span></label><div class=\"sk-toggleable__content fitted\"><pre>LinearRegression()</pre></div> </div></div></div></div>"
      ],
      "text/plain": [
       "LinearRegression()"
      ]
     },
     "execution_count": 190,
     "metadata": {},
     "output_type": "execute_result"
    }
   ],
   "source": [
    "# Instantiate and train a Linear Regression Model\n",
    "linear_reg = LinearRegression()\n",
    "linear_reg.fit(X_train, y_train)"
   ]
  },
  {
   "cell_type": "code",
   "execution_count": 191,
   "metadata": {},
   "outputs": [
    {
     "data": {
      "text/plain": [
       "array([-2.77826139e-09, -1.14783822e-01,  3.81137066e-01,  9.06342762e-01,\n",
       "        1.21885923e-01,  8.93729535e-15, -2.55925291e-03, -5.98561223e-04,\n",
       "        3.09648620e-03, -2.06489621e-03,  2.30892101e-03, -3.06165629e-03,\n",
       "        3.64550430e-03,  4.24800228e-03, -4.75387242e-03,  1.19641044e-03,\n",
       "        3.83956249e-04,  4.15883341e-04, -2.12612400e-03, -6.99604830e-03,\n",
       "        1.89596153e-03, -1.42301407e-03, -9.47893497e-04,  7.49307758e-04,\n",
       "        8.43596704e-05,  7.34575048e-03, -3.63046136e-03, -1.71113463e-03,\n",
       "        2.35767247e-04, -9.43216882e-04,  1.27310848e-04,  3.80360797e-03,\n",
       "       -3.35909406e-03,  7.86650267e-05, -3.33966090e-03, -1.26309216e-03,\n",
       "       -1.11674051e-03,  1.17116042e-03, -1.18771478e-04,  4.14497666e-03,\n",
       "        5.25935604e-03,  1.24208925e-03,  8.21033715e-04, -3.48041976e-03,\n",
       "        9.51273245e-04,  3.65154055e-03,  1.99699546e-03, -1.60885243e-03,\n",
       "        6.42761096e-04,  1.23586382e-03, -4.47694365e-03,  6.48625862e-04,\n",
       "        9.16013154e-04, -1.53473524e-03, -2.52374830e-03,  5.38410860e-03,\n",
       "       -4.04350196e-03,  1.27905378e-03,  1.41538439e-03, -1.27433643e-03,\n",
       "       -3.46869086e-03,  2.82474695e-03, -7.76157816e-04])"
      ]
     },
     "execution_count": 191,
     "metadata": {},
     "output_type": "execute_result"
    }
   ],
   "source": [
    "linear_reg.coef_"
   ]
  },
  {
   "cell_type": "code",
   "execution_count": 192,
   "metadata": {},
   "outputs": [],
   "source": [
    "# Make model predictions\n",
    "y_linreg_pred = linear_reg.predict(X_test)"
   ]
  },
  {
   "cell_type": "code",
   "execution_count": 193,
   "metadata": {},
   "outputs": [
    {
     "name": "stdout",
     "output_type": "stream",
     "text": [
      "Mean Squared Error: 0.00037282200819848283\n",
      "R^2 Score: 0.9913242776325004\n"
     ]
    }
   ],
   "source": [
    "# Evaluate the model\n",
    "mse = mean_squared_error(y_test, y_linreg_pred)\n",
    "r2 = r2_score(y_test, y_linreg_pred)\n",
    "\n",
    "print(f'Mean Squared Error: {mse}')\n",
    "print(f'R^2 Score: {r2}')"
   ]
  },
  {
   "cell_type": "code",
   "execution_count": 194,
   "metadata": {},
   "outputs": [
    {
     "name": "stdout",
     "output_type": "stream",
     "text": [
      "    Coefficient                    Feature\n",
      "0      0.906343  Expected Readmission Rate\n",
      "1      0.381137   Excess Readmission Ratio\n",
      "2      0.121886     Number of Readmissions\n",
      "3      0.007346                   State_MA\n",
      "4      0.005384                   State_WV\n",
      "..          ...                        ...\n",
      "58    -0.004044                   State_WY\n",
      "59    -0.004477                   State_UT\n",
      "60    -0.004754                   State_DE\n",
      "61    -0.006996                   State_ID\n",
      "62    -0.114784       Number of Discharges\n",
      "\n",
      "[63 rows x 2 columns]\n"
     ]
    },
    {
     "data": {
      "image/png": "[encoded data removed]",
      "text/plain": [
       "<Figure size 1200x800 with 1 Axes>"
      ]
     },
     "metadata": {},
     "output_type": "display_data"
    }
   ],
   "source": [
    "# Assuming X_train is a DataFrame with feature names\n",
    "linear_reg = LinearRegression()\n",
    "linear_reg.fit(X_train, y_train)\n",
    "\n",
    "# Extract coefficients and feature names\n",
    "coefficients = linear_reg.coef_\n",
    "feature_names = X_train.columns\n",
    "\n",
    "# Pair coefficients with feature names\n",
    "coef_feature_pairs = list(zip(coefficients, feature_names))\n",
    "\n",
    "# Sort pairs by coefficient values in descending order\n",
    "sorted_coef_feature_pairs = sorted(coef_feature_pairs, key=lambda x: x[0], reverse=True)\n",
    "\n",
    "# Convert to DataFrame for better readability\n",
    "sorted_df = pd.DataFrame(sorted_coef_feature_pairs, columns=['Coefficient', 'Feature'])\n",
    "\n",
    "print(sorted_df)\n",
    "\n",
    "# Plotting the bar chart\n",
    "plt.figure(figsize=(12, 8))  # Increase figure size\n",
    "bars = plt.barh(sorted_df['Feature'], sorted_df['Coefficient'], color='skyblue')\n",
    "plt.xlabel('Coefficient')\n",
    "plt.ylabel('Feature')\n",
    "plt.title('Feature Coefficients Sorted from Highest to Lowest')\n",
    "plt.gca().invert_yaxis()  # Invert y-axis to have the highest coefficient on top\n",
    "\n",
    "# Add text annotations in scientific notation\n",
    "for bar in bars:\n",
    "    plt.text(\n",
    "        bar.get_width(),  # x-coordinate\n",
    "        bar.get_y() + bar.get_height() / 2,  # y-coordinate\n",
    "        f'{bar.get_width():.2e}',  # text in scientific notation\n",
    "        va='center'  # vertical alignment\n",
    "    )\n",
    "\n",
    "plt.tight_layout()  # Adjust layout to make room for labels\n",
    "plt.show()"
   ]
  },
  {
   "cell_type": "code",
   "execution_count": 195,
   "metadata": {},
   "outputs": [],
   "source": [
    "X_train.drop(columns=['Expected Readmission Rate'], inplace=True)\n",
    "X_test.drop(columns=['Expected Readmission Rate'], inplace=True)"
   ]
  },
  {
   "cell_type": "code",
   "execution_count": 196,
   "metadata": {},
   "outputs": [
    {
     "name": "stdout",
     "output_type": "stream",
     "text": [
      "Mean Squared Error: 0.002806731245426572\n",
      "R^2 Score: 0.9346862027722797\n"
     ]
    }
   ],
   "source": [
    "# Instantiate and train a Linear Regression Model\n",
    "linear_reg_1 = LinearRegression()\n",
    "linear_reg_1.fit(X_train, y_train)\n",
    "\n",
    "# Make model predictions\n",
    "y_linreg_pred_1 = linear_reg_1.predict(X_test)\n",
    "\n",
    "# Evaluate the model\n",
    "mse = mean_squared_error(y_test, y_linreg_pred_1)\n",
    "r2 = r2_score(y_test, y_linreg_pred_1)\n",
    "\n",
    "print(f'Mean Squared Error: {mse}')\n",
    "print(f'R^2 Score: {r2}')"
   ]
  },
  {
   "cell_type": "markdown",
   "metadata": {},
   "source": [
    "Expected Readmission Rate had a coefficient of 0.904, much higher than any of the other features. We removed it to see how it affects performance.\n",
    "\n",
    "<h5>With Expected Readmission Rate</h5>\n",
    "\n",
    "- Mean Squared Error (MSE): The value of `0.0003` suggests that the model's predictions have very little error.\n",
    "- R^2 Score: The value of `0.993` indicates an incredible model performance, showing that the linear regression model does a great job capturing the relationship between the features and the target variable effectively.\n",
    "\n",
    "<h5>Without Expected Readmission Rate</h5>\n",
    "\n",
    "- Mean Squared Error (MSE): The value of `0.0030` suggests that the model's predictions doesn't have very much error at all.\n",
    "- R^2 Score: The value of `0.928` indicates a very good model performance, showing that the linear regression model does a good job capturing the relationship between the features and the target variable effectively."
   ]
  },
  {
   "cell_type": "markdown",
   "metadata": {},
   "source": [
    "## Part 4: Random Forest Predictions\n",
    "\n",
    "The improved and optimized model that we will be testing for this domain is the `Random Forest`. If you don't know what the Random Forest model is, you can read more about it [here](https://en.wikipedia.org/wiki/Random_forest). In summary, the Random Forest model is an ensemble learning method that operates by constructing a multitude of decision trees at training time and outputting the class that is the mode of the classes (classification) or mean prediction (regression) of the individual trees.\n",
    "\n",
    "**The following steps will be taken to train and test the Random Forest model:**\n",
    "* Split the data into training and testing sets\n",
    "* Train the Random Forest model\n",
    "    * Use the `RandomForestRegressor` model from `sklearn`\n",
    "    * Hyperparameter `n_estimators` will be tuned. This hyperparameter is responsible for the number of trees in the forest. The larger the number of trees, the better the model will be but the longer it will take to run. Another downside of increasing the number of trees is that the model may overfit.\n",
    "    * Hyperparameter `max_depth` will be tuned. This hyperparameter is responsible for the maximum depth of the tree. The deeper the tree, the more splits it has and it captures more information about the data. However, the deeper the tree, the more likely it is to overfit.\n",
    "* Results will be evaluated\n",
    "    * Output is `MSE` since this is a regression model. `MSE` is the mean squared error, which is the average of the squares of the errors. The larger the number, the larger the error. A good value to shoot for, given our output is a percentage, is 0.01 or less.\n",
    "\n",
    "A random forest model was chosen because it is a robust model that can handle a large number of features and is less likely to overfit than a single decision tree. It is also a good model to use for regression problems because it handles non-linear relationships by the combination of the linear nature of decision trees.\n"
   ]
  },
  {
   "cell_type": "code",
   "execution_count": 197,
   "metadata": {},
   "outputs": [],
   "source": [
    "# Import random forest from sklearn\n",
    "from sklearn.ensemble import RandomForestRegressor\n",
    "from sklearn.model_selection import train_test_split\n",
    "from sklearn.metrics import mean_squared_error"
   ]
  },
  {
   "cell_type": "markdown",
   "metadata": {},
   "source": [
    "#### Part 4.1: Data Setup"
   ]
  },
  {
   "cell_type": "code",
   "execution_count": 198,
   "metadata": {},
   "outputs": [],
   "source": [
    "data = pd.read_csv('cleaned_data.csv')"
   ]
  },
  {
   "cell_type": "code",
   "execution_count": 199,
   "metadata": {},
   "outputs": [],
   "source": [
    "# Split the data into training and testing sets\n",
    "X = data.drop(columns=['output'])\n",
    "y = data['output']\n",
    "X_train, X_test, y_train, y_test = train_test_split(X, y, test_size=0.2)"
   ]
  },
  {
   "cell_type": "markdown",
   "metadata": {},
   "source": [
    "#### Part 4.2: Train a Random Forest Model"
   ]
  },
  {
   "cell_type": "code",
   "execution_count": 200,
   "metadata": {},
   "outputs": [
    {
     "data": {
      "text/html": [
       "<style>#sk-container-id-11 {\n",
       "  /* Definition of color scheme common for light and dark mode */\n",
       "  --sklearn-color-text: black;\n",
       "  --sklearn-color-line: gray;\n",
       "  /* Definition of color scheme for unfitted estimators */\n",
       "  --sklearn-color-unfitted-level-0: #fff5e6;\n",
       "  --sklearn-color-unfitted-level-1: #f6e4d2;\n",
       "  --sklearn-color-unfitted-level-2: #ffe0b3;\n",
       "  --sklearn-color-unfitted-level-3: chocolate;\n",
       "  /* Definition of color scheme for fitted estimators */\n",
       "  --sklearn-color-fitted-level-0: #f0f8ff;\n",
       "  --sklearn-color-fitted-level-1: #d4ebff;\n",
       "  --sklearn-color-fitted-level-2: #b3dbfd;\n",
       "  --sklearn-color-fitted-level-3: cornflowerblue;\n",
       "\n",
       "  /* Specific color for light theme */\n",
       "  --sklearn-color-text-on-default-background: var(--sg-text-color, var(--theme-code-foreground, var(--jp-content-font-color1, black)));\n",
       "  --sklearn-color-background: var(--sg-background-color, var(--theme-background, var(--jp-layout-color0, white)));\n",
       "  --sklearn-color-border-box: var(--sg-text-color, var(--theme-code-foreground, var(--jp-content-font-color1, black)));\n",
       "  --sklearn-color-icon: #696969;\n",
       "\n",
       "  @media (prefers-color-scheme: dark) {\n",
       "    /* Redefinition of color scheme for dark theme */\n",
       "    --sklearn-color-text-on-default-background: var(--sg-text-color, var(--theme-code-foreground, var(--jp-content-font-color1, white)));\n",
       "    --sklearn-color-background: var(--sg-background-color, var(--theme-background, var(--jp-layout-color0, #111)));\n",
       "    --sklearn-color-border-box: var(--sg-text-color, var(--theme-code-foreground, var(--jp-content-font-color1, white)));\n",
       "    --sklearn-color-icon: #878787;\n",
       "  }\n",
       "}\n",
       "\n",
       "#sk-container-id-11 {\n",
       "  color: var(--sklearn-color-text);\n",
       "}\n",
       "\n",
       "#sk-container-id-11 pre {\n",
       "  padding: 0;\n",
       "}\n",
       "\n",
       "#sk-container-id-11 input.sk-hidden--visually {\n",
       "  border: 0;\n",
       "  clip: rect(1px 1px 1px 1px);\n",
       "  clip: rect(1px, 1px, 1px, 1px);\n",
       "  height: 1px;\n",
       "  margin: -1px;\n",
       "  overflow: hidden;\n",
       "  padding: 0;\n",
       "  position: absolute;\n",
       "  width: 1px;\n",
       "}\n",
       "\n",
       "#sk-container-id-11 div.sk-dashed-wrapped {\n",
       "  border: 1px dashed var(--sklearn-color-line);\n",
       "  margin: 0 0.4em 0.5em 0.4em;\n",
       "  box-sizing: border-box;\n",
       "  padding-bottom: 0.4em;\n",
       "  background-color: var(--sklearn-color-background);\n",
       "}\n",
       "\n",
       "#sk-container-id-11 div.sk-container {\n",
       "  /* jupyter's `normalize.less` sets `[hidden] { display: none; }`\n",
       "     but bootstrap.min.css set `[hidden] { display: none !important; }`\n",
       "     so we also need the `!important` here to be able to override the\n",
       "     default hidden behavior on the sphinx rendered scikit-learn.org.\n",
       "     See: https://github.com/scikit-learn/scikit-learn/issues/21755 */\n",
       "  display: inline-block !important;\n",
       "  position: relative;\n",
       "}\n",
       "\n",
       "#sk-container-id-11 div.sk-text-repr-fallback {\n",
       "  display: none;\n",
       "}\n",
       "\n",
       "div.sk-parallel-item,\n",
       "div.sk-serial,\n",
       "div.sk-item {\n",
       "  /* draw centered vertical line to link estimators */\n",
       "  background-image: linear-gradient(var(--sklearn-color-text-on-default-background), var(--sklearn-color-text-on-default-background));\n",
       "  background-size: 2px 100%;\n",
       "  background-repeat: no-repeat;\n",
       "  background-position: center center;\n",
       "}\n",
       "\n",
       "/* Parallel-specific style estimator block */\n",
       "\n",
       "#sk-container-id-11 div.sk-parallel-item::after {\n",
       "  content: \"\";\n",
       "  width: 100%;\n",
       "  border-bottom: 2px solid var(--sklearn-color-text-on-default-background);\n",
       "  flex-grow: 1;\n",
       "}\n",
       "\n",
       "#sk-container-id-11 div.sk-parallel {\n",
       "  display: flex;\n",
       "  align-items: stretch;\n",
       "  justify-content: center;\n",
       "  background-color: var(--sklearn-color-background);\n",
       "  position: relative;\n",
       "}\n",
       "\n",
       "#sk-container-id-11 div.sk-parallel-item {\n",
       "  display: flex;\n",
       "  flex-direction: column;\n",
       "}\n",
       "\n",
       "#sk-container-id-11 div.sk-parallel-item:first-child::after {\n",
       "  align-self: flex-end;\n",
       "  width: 50%;\n",
       "}\n",
       "\n",
       "#sk-container-id-11 div.sk-parallel-item:last-child::after {\n",
       "  align-self: flex-start;\n",
       "  width: 50%;\n",
       "}\n",
       "\n",
       "#sk-container-id-11 div.sk-parallel-item:only-child::after {\n",
       "  width: 0;\n",
       "}\n",
       "\n",
       "/* Serial-specific style estimator block */\n",
       "\n",
       "#sk-container-id-11 div.sk-serial {\n",
       "  display: flex;\n",
       "  flex-direction: column;\n",
       "  align-items: center;\n",
       "  background-color: var(--sklearn-color-background);\n",
       "  padding-right: 1em;\n",
       "  padding-left: 1em;\n",
       "}\n",
       "\n",
       "\n",
       "/* Toggleable style: style used for estimator/Pipeline/ColumnTransformer box that is\n",
       "clickable and can be expanded/collapsed.\n",
       "- Pipeline and ColumnTransformer use this feature and define the default style\n",
       "- Estimators will overwrite some part of the style using the `sk-estimator` class\n",
       "*/\n",
       "\n",
       "/* Pipeline and ColumnTransformer style (default) */\n",
       "\n",
       "#sk-container-id-11 div.sk-toggleable {\n",
       "  /* Default theme specific background. It is overwritten whether we have a\n",
       "  specific estimator or a Pipeline/ColumnTransformer */\n",
       "  background-color: var(--sklearn-color-background);\n",
       "}\n",
       "\n",
       "/* Toggleable label */\n",
       "#sk-container-id-11 label.sk-toggleable__label {\n",
       "  cursor: pointer;\n",
       "  display: block;\n",
       "  width: 100%;\n",
       "  margin-bottom: 0;\n",
       "  padding: 0.5em;\n",
       "  box-sizing: border-box;\n",
       "  text-align: center;\n",
       "}\n",
       "\n",
       "#sk-container-id-11 label.sk-toggleable__label-arrow:before {\n",
       "  /* Arrow on the left of the label */\n",
       "  content: \"▸\";\n",
       "  float: left;\n",
       "  margin-right: 0.25em;\n",
       "  color: var(--sklearn-color-icon);\n",
       "}\n",
       "\n",
       "#sk-container-id-11 label.sk-toggleable__label-arrow:hover:before {\n",
       "  color: var(--sklearn-color-text);\n",
       "}\n",
       "\n",
       "/* Toggleable content - dropdown */\n",
       "\n",
       "#sk-container-id-11 div.sk-toggleable__content {\n",
       "  max-height: 0;\n",
       "  max-width: 0;\n",
       "  overflow: hidden;\n",
       "  text-align: left;\n",
       "  /* unfitted */\n",
       "  background-color: var(--sklearn-color-unfitted-level-0);\n",
       "}\n",
       "\n",
       "#sk-container-id-11 div.sk-toggleable__content.fitted {\n",
       "  /* fitted */\n",
       "  background-color: var(--sklearn-color-fitted-level-0);\n",
       "}\n",
       "\n",
       "#sk-container-id-11 div.sk-toggleable__content pre {\n",
       "  margin: 0.2em;\n",
       "  border-radius: 0.25em;\n",
       "  color: var(--sklearn-color-text);\n",
       "  /* unfitted */\n",
       "  background-color: var(--sklearn-color-unfitted-level-0);\n",
       "}\n",
       "\n",
       "#sk-container-id-11 div.sk-toggleable__content.fitted pre {\n",
       "  /* unfitted */\n",
       "  background-color: var(--sklearn-color-fitted-level-0);\n",
       "}\n",
       "\n",
       "#sk-container-id-11 input.sk-toggleable__control:checked~div.sk-toggleable__content {\n",
       "  /* Expand drop-down */\n",
       "  max-height: 200px;\n",
       "  max-width: 100%;\n",
       "  overflow: auto;\n",
       "}\n",
       "\n",
       "#sk-container-id-11 input.sk-toggleable__control:checked~label.sk-toggleable__label-arrow:before {\n",
       "  content: \"▾\";\n",
       "}\n",
       "\n",
       "/* Pipeline/ColumnTransformer-specific style */\n",
       "\n",
       "#sk-container-id-11 div.sk-label input.sk-toggleable__control:checked~label.sk-toggleable__label {\n",
       "  color: var(--sklearn-color-text);\n",
       "  background-color: var(--sklearn-color-unfitted-level-2);\n",
       "}\n",
       "\n",
       "#sk-container-id-11 div.sk-label.fitted input.sk-toggleable__control:checked~label.sk-toggleable__label {\n",
       "  background-color: var(--sklearn-color-fitted-level-2);\n",
       "}\n",
       "\n",
       "/* Estimator-specific style */\n",
       "\n",
       "/* Colorize estimator box */\n",
       "#sk-container-id-11 div.sk-estimator input.sk-toggleable__control:checked~label.sk-toggleable__label {\n",
       "  /* unfitted */\n",
       "  background-color: var(--sklearn-color-unfitted-level-2);\n",
       "}\n",
       "\n",
       "#sk-container-id-11 div.sk-estimator.fitted input.sk-toggleable__control:checked~label.sk-toggleable__label {\n",
       "  /* fitted */\n",
       "  background-color: var(--sklearn-color-fitted-level-2);\n",
       "}\n",
       "\n",
       "#sk-container-id-11 div.sk-label label.sk-toggleable__label,\n",
       "#sk-container-id-11 div.sk-label label {\n",
       "  /* The background is the default theme color */\n",
       "  color: var(--sklearn-color-text-on-default-background);\n",
       "}\n",
       "\n",
       "/* On hover, darken the color of the background */\n",
       "#sk-container-id-11 div.sk-label:hover label.sk-toggleable__label {\n",
       "  color: var(--sklearn-color-text);\n",
       "  background-color: var(--sklearn-color-unfitted-level-2);\n",
       "}\n",
       "\n",
       "/* Label box, darken color on hover, fitted */\n",
       "#sk-container-id-11 div.sk-label.fitted:hover label.sk-toggleable__label.fitted {\n",
       "  color: var(--sklearn-color-text);\n",
       "  background-color: var(--sklearn-color-fitted-level-2);\n",
       "}\n",
       "\n",
       "/* Estimator label */\n",
       "\n",
       "#sk-container-id-11 div.sk-label label {\n",
       "  font-family: monospace;\n",
       "  font-weight: bold;\n",
       "  display: inline-block;\n",
       "  line-height: 1.2em;\n",
       "}\n",
       "\n",
       "#sk-container-id-11 div.sk-label-container {\n",
       "  text-align: center;\n",
       "}\n",
       "\n",
       "/* Estimator-specific */\n",
       "#sk-container-id-11 div.sk-estimator {\n",
       "  font-family: monospace;\n",
       "  border: 1px dotted var(--sklearn-color-border-box);\n",
       "  border-radius: 0.25em;\n",
       "  box-sizing: border-box;\n",
       "  margin-bottom: 0.5em;\n",
       "  /* unfitted */\n",
       "  background-color: var(--sklearn-color-unfitted-level-0);\n",
       "}\n",
       "\n",
       "#sk-container-id-11 div.sk-estimator.fitted {\n",
       "  /* fitted */\n",
       "  background-color: var(--sklearn-color-fitted-level-0);\n",
       "}\n",
       "\n",
       "/* on hover */\n",
       "#sk-container-id-11 div.sk-estimator:hover {\n",
       "  /* unfitted */\n",
       "  background-color: var(--sklearn-color-unfitted-level-2);\n",
       "}\n",
       "\n",
       "#sk-container-id-11 div.sk-estimator.fitted:hover {\n",
       "  /* fitted */\n",
       "  background-color: var(--sklearn-color-fitted-level-2);\n",
       "}\n",
       "\n",
       "/* Specification for estimator info (e.g. \"i\" and \"?\") */\n",
       "\n",
       "/* Common style for \"i\" and \"?\" */\n",
       "\n",
       ".sk-estimator-doc-link,\n",
       "a:link.sk-estimator-doc-link,\n",
       "a:visited.sk-estimator-doc-link {\n",
       "  float: right;\n",
       "  font-size: smaller;\n",
       "  line-height: 1em;\n",
       "  font-family: monospace;\n",
       "  background-color: var(--sklearn-color-background);\n",
       "  border-radius: 1em;\n",
       "  height: 1em;\n",
       "  width: 1em;\n",
       "  text-decoration: none !important;\n",
       "  margin-left: 1ex;\n",
       "  /* unfitted */\n",
       "  border: var(--sklearn-color-unfitted-level-1) 1pt solid;\n",
       "  color: var(--sklearn-color-unfitted-level-1);\n",
       "}\n",
       "\n",
       ".sk-estimator-doc-link.fitted,\n",
       "a:link.sk-estimator-doc-link.fitted,\n",
       "a:visited.sk-estimator-doc-link.fitted {\n",
       "  /* fitted */\n",
       "  border: var(--sklearn-color-fitted-level-1) 1pt solid;\n",
       "  color: var(--sklearn-color-fitted-level-1);\n",
       "}\n",
       "\n",
       "/* On hover */\n",
       "div.sk-estimator:hover .sk-estimator-doc-link:hover,\n",
       ".sk-estimator-doc-link:hover,\n",
       "div.sk-label-container:hover .sk-estimator-doc-link:hover,\n",
       ".sk-estimator-doc-link:hover {\n",
       "  /* unfitted */\n",
       "  background-color: var(--sklearn-color-unfitted-level-3);\n",
       "  color: var(--sklearn-color-background);\n",
       "  text-decoration: none;\n",
       "}\n",
       "\n",
       "div.sk-estimator.fitted:hover .sk-estimator-doc-link.fitted:hover,\n",
       ".sk-estimator-doc-link.fitted:hover,\n",
       "div.sk-label-container:hover .sk-estimator-doc-link.fitted:hover,\n",
       ".sk-estimator-doc-link.fitted:hover {\n",
       "  /* fitted */\n",
       "  background-color: var(--sklearn-color-fitted-level-3);\n",
       "  color: var(--sklearn-color-background);\n",
       "  text-decoration: none;\n",
       "}\n",
       "\n",
       "/* Span, style for the box shown on hovering the info icon */\n",
       ".sk-estimator-doc-link span {\n",
       "  display: none;\n",
       "  z-index: 9999;\n",
       "  position: relative;\n",
       "  font-weight: normal;\n",
       "  right: .2ex;\n",
       "  padding: .5ex;\n",
       "  margin: .5ex;\n",
       "  width: min-content;\n",
       "  min-width: 20ex;\n",
       "  max-width: 50ex;\n",
       "  color: var(--sklearn-color-text);\n",
       "  box-shadow: 2pt 2pt 4pt #999;\n",
       "  /* unfitted */\n",
       "  background: var(--sklearn-color-unfitted-level-0);\n",
       "  border: .5pt solid var(--sklearn-color-unfitted-level-3);\n",
       "}\n",
       "\n",
       ".sk-estimator-doc-link.fitted span {\n",
       "  /* fitted */\n",
       "  background: var(--sklearn-color-fitted-level-0);\n",
       "  border: var(--sklearn-color-fitted-level-3);\n",
       "}\n",
       "\n",
       ".sk-estimator-doc-link:hover span {\n",
       "  display: block;\n",
       "}\n",
       "\n",
       "/* \"?\"-specific style due to the `<a>` HTML tag */\n",
       "\n",
       "#sk-container-id-11 a.estimator_doc_link {\n",
       "  float: right;\n",
       "  font-size: 1rem;\n",
       "  line-height: 1em;\n",
       "  font-family: monospace;\n",
       "  background-color: var(--sklearn-color-background);\n",
       "  border-radius: 1rem;\n",
       "  height: 1rem;\n",
       "  width: 1rem;\n",
       "  text-decoration: none;\n",
       "  /* unfitted */\n",
       "  color: var(--sklearn-color-unfitted-level-1);\n",
       "  border: var(--sklearn-color-unfitted-level-1) 1pt solid;\n",
       "}\n",
       "\n",
       "#sk-container-id-11 a.estimator_doc_link.fitted {\n",
       "  /* fitted */\n",
       "  border: var(--sklearn-color-fitted-level-1) 1pt solid;\n",
       "  color: var(--sklearn-color-fitted-level-1);\n",
       "}\n",
       "\n",
       "/* On hover */\n",
       "#sk-container-id-11 a.estimator_doc_link:hover {\n",
       "  /* unfitted */\n",
       "  background-color: var(--sklearn-color-unfitted-level-3);\n",
       "  color: var(--sklearn-color-background);\n",
       "  text-decoration: none;\n",
       "}\n",
       "\n",
       "#sk-container-id-11 a.estimator_doc_link.fitted:hover {\n",
       "  /* fitted */\n",
       "  background-color: var(--sklearn-color-fitted-level-3);\n",
       "}\n",
       "</style><div id=\"sk-container-id-11\" class=\"sk-top-container\"><div class=\"sk-text-repr-fallback\"><pre>RandomForestRegressor(max_depth=10)</pre><b>In a Jupyter environment, please rerun this cell to show the HTML representation or trust the notebook. <br />On GitHub, the HTML representation is unable to render, please try loading this page with nbviewer.org.</b></div><div class=\"sk-container\" hidden><div class=\"sk-item\"><div class=\"sk-estimator fitted sk-toggleable\"><input class=\"sk-toggleable__control sk-hidden--visually\" id=\"sk-estimator-id-11\" type=\"checkbox\" checked><label for=\"sk-estimator-id-11\" class=\"sk-toggleable__label fitted sk-toggleable__label-arrow fitted\">&nbsp;&nbsp;RandomForestRegressor<a class=\"sk-estimator-doc-link fitted\" rel=\"noreferrer\" target=\"_blank\" href=\"https://scikit-learn.org/1.4/modules/generated/sklearn.ensemble.RandomForestRegressor.html\">?<span>Documentation for RandomForestRegressor</span></a><span class=\"sk-estimator-doc-link fitted\">i<span>Fitted</span></span></label><div class=\"sk-toggleable__content fitted\"><pre>RandomForestRegressor(max_depth=10)</pre></div> </div></div></div></div>"
      ],
      "text/plain": [
       "RandomForestRegressor(max_depth=10)"
      ]
     },
     "execution_count": 200,
     "metadata": {},
     "output_type": "execute_result"
    }
   ],
   "source": [
    "# Instantiate and train a Random Forest Model\n",
    "model = RandomForestRegressor(n_estimators=100, max_depth=10)\n",
    "model.fit(X_train, y_train)"
   ]
  },
  {
   "cell_type": "code",
   "execution_count": 201,
   "metadata": {},
   "outputs": [
    {
     "name": "stdout",
     "output_type": "stream",
     "text": [
      "Mean Squared Error: 1.7535813753829712e-05\n",
      "R^2 Score: 0.9996035633386569\n"
     ]
    }
   ],
   "source": [
    "# Make predictions\n",
    "y_pred = model.predict(X_test)\n",
    "\n",
    "# Evaluate the model\n",
    "mse = mean_squared_error(y_test, y_pred)\n",
    "r2 = r2_score(y_test, y_pred)\n",
    "\n",
    "print(f'Mean Squared Error: {mse}')\n",
    "print(f'R^2 Score: {r2}')"
   ]
  },
  {
   "cell_type": "code",
   "execution_count": 202,
   "metadata": {},
   "outputs": [
    {
     "data": {
      "image/png": "[encoded data removed]",
      "text/plain": [
       "<Figure size 1200x800 with 1 Axes>"
      ]
     },
     "metadata": {},
     "output_type": "display_data"
    }
   ],
   "source": [
    "# Extract feature importances and feature names\n",
    "feature_importances = model.feature_importances_\n",
    "feature_names = X_train.columns\n",
    "\n",
    "# Pair feature importances with feature names\n",
    "importance_feature_pairs = list(zip(feature_importances, feature_names))\n",
    "\n",
    "# Sort pairs by importance values in descending order\n",
    "sorted_importance_feature_pairs = sorted(importance_feature_pairs, key=lambda x: x[0], reverse=True)\n",
    "\n",
    "# Convert to DataFrame for better readability\n",
    "sorted_df = pd.DataFrame(sorted_importance_feature_pairs, columns=['Importance', 'Feature'])\n",
    "\n",
    "# Plotting the bar chart\n",
    "plt.figure(figsize=(12, 8))  # Increase figure size\n",
    "bars = plt.barh(sorted_df['Feature'], sorted_df['Importance'], color='skyblue')\n",
    "plt.xlabel('Importance')\n",
    "plt.ylabel('Feature')\n",
    "plt.title('Feature Importances Sorted from Highest to Lowest')\n",
    "plt.gca().invert_yaxis()  # Invert y-axis to have the highest importance on top\n",
    "\n",
    "# Add text annotations in scientific notation\n",
    "for bar in bars:\n",
    "    plt.text(\n",
    "        bar.get_width(),  # x-coordinate\n",
    "        bar.get_y() + bar.get_height() / 2,  # y-coordinate\n",
    "        f'{bar.get_width():.2e}',  # text in scientific notation\n",
    "        va='center'  # vertical alignment\n",
    "    )\n",
    "\n",
    "plt.tight_layout()  # Adjust layout to make room for labels\n",
    "plt.show()"
   ]
  },
  {
   "cell_type": "code",
   "execution_count": 203,
   "metadata": {},
   "outputs": [],
   "source": [
    "X_train.drop(columns=['Expected Readmission Rate'], inplace=True)\n",
    "X_test.drop(columns=['Expected Readmission Rate'], inplace=True)"
   ]
  },
  {
   "cell_type": "code",
   "execution_count": 204,
   "metadata": {},
   "outputs": [
    {
     "name": "stdout",
     "output_type": "stream",
     "text": [
      "Mean Squared Error: 0.002714794411456965\n",
      "R^2 Score: 0.9386259430090108\n"
     ]
    }
   ],
   "source": [
    "# Instantiate and train a Random Forest Model\n",
    "model = RandomForestRegressor(n_estimators=100, max_depth=10)\n",
    "model.fit(X_train, y_train)\n",
    "\n",
    "# Make predictions\n",
    "y_pred = model.predict(X_test)\n",
    "\n",
    "# Evaluate the model\n",
    "mse = mean_squared_error(y_test, y_pred)\n",
    "r2 = r2_score(y_test, y_pred)\n",
    "\n",
    "print(f'Mean Squared Error: {mse}')\n",
    "print(f'R^2 Score: {r2}')"
   ]
  },
  {
   "cell_type": "markdown",
   "metadata": {},
   "source": [
    "Expected Readmission Rate had a feature importance of 0.937, much higher than any of the other features. We removed it to see how it affects performance.\n",
    "\n",
    "<h5>With Expected Readmission Rate</h5>\n",
    "\n",
    "- Mean Squared Error (MSE): The value of `1.088e-5` suggests that the model's predictions has almost no error.\n",
    "- R^2 Score: The value of `0.9997` indicates a near perfect model performance, suggesting that the random forest regressor model is capturing the relationship between the features and the target variable extremely well.\n",
    "\n",
    "<h5>Without Expected Readmission Rate</h5>\n",
    "\n",
    "- Mean Squared Error (MSE): The value of `0.0024` suggests that the model's predictions still has very low error.\n",
    "- R^2 Score: The value of `0.947` indicates a very good model performance, showing that the linear regression model does a good job capturing the relationship between the features and the target variable effectively."
   ]
  },
  {
   "cell_type": "markdown",
   "metadata": {},
   "source": [
    "#### Part 4.3: Hyperparameter Tune via Grid Search\n",
    "Given we achieved an MSE of `1.1657932133341314e-05`, we can say that the Random Forest model is a good fit for this data. The next step is to try optimizing this model to achieve better results while visualizing how the mse changes given different parameters. We will use a simple two-level for-loop to iterate through different values of `n_estimators` and `max_depth` to find the best combination of hyperparameters.\n",
    "\n",
    "The range of values which will be tested are as follows:\n",
    "```python\n",
    "n_estimators = [10, 25, 50, 100, 150, 200, 300, 400]\n",
    "max_depth = [1, 2, 3, 4, 5, 10, 20, 30, 40, 50, 60]\n",
    "```"
   ]
  },
  {
   "cell_type": "code",
   "execution_count": 205,
   "metadata": {},
   "outputs": [
    {
     "name": "stderr",
     "output_type": "stream",
     "text": [
      "100%|██████████| 8/8 [07:19<00:00, 54.88s/it]\n"
     ]
    }
   ],
   "source": [
    "n_estimators = [10, 25, 50, 100, 150, 200, 300, 400]\n",
    "max_depth = [1, 2, 3, 4, 5, 10, 20, 30, 40, 50, 60]\n",
    "\n",
    "results = []\n",
    "\n",
    "for n in tqdm(n_estimators):\n",
    "    for d in max_depth:\n",
    "        model = RandomForestRegressor(n_estimators=n, max_depth=d)\n",
    "        model.fit(X_train, y_train)\n",
    "        y_pred = model.predict(X_test)\n",
    "        mse = mean_squared_error(y_test, y_pred)\n",
    "        results.append((n, d, mse))"
   ]
  },
  {
   "cell_type": "code",
   "execution_count": 207,
   "metadata": {},
   "outputs": [
    {
     "name": "stdout",
     "output_type": "stream",
     "text": [
      "\n",
      "Best hyperparameters:\n",
      "- n_estimators: 400\n",
      "- max_depth: 20\n",
      "- mse: 0.002179963216791013\n",
      "\n"
     ]
    }
   ],
   "source": [
    "# Determine the best hyperparameters\n",
    "best = min(results, key=lambda x: x[2])\n",
    "print(f\"\"\"\n",
    "Best hyperparameters:\n",
    "- n_estimators: {best[0]}\n",
    "- max_depth: {best[1]}\n",
    "- mse: {best[2]}\n",
    "\"\"\")"
   ]
  },
  {
   "cell_type": "code",
   "execution_count": 208,
   "metadata": {},
   "outputs": [
    {
     "data": {
      "application/vnd.plotly.v1+json": {
       "config": {
        "plotlyServerURL": "https://plot.ly"
       },
       "data": [
        {
         "color": "lightblue",
         "opacity": 0.5,
         "type": "mesh3d",
         "x": [
          10,
          10,
          10,
          10,
          10,
          10,
          10,
          10,
          10,
          10,
          10,
          25,
          25,
          25,
          25,
          25,
          25,
          25,
          25,
          25,
          25,
          25,
          50,
          50,
          50,
          50,
          50,
          50,
          50,
          50,
          50,
          50,
          50,
          100,
          100,
          100,
          100,
          100,
          100,
          100,
          100,
          100,
          100,
          100,
          150,
          150,
          150,
          150,
          150,
          150,
          150,
          150,
          150,
          150,
          150,
          200,
          200,
          200,
          200,
          200,
          200,
          200,
          200,
          200,
          200,
          200,
          300,
          300,
          300,
          300,
          300,
          300,
          300,
          300,
          300,
          300,
          300,
          400,
          400,
          400,
          400,
          400,
          400,
          400,
          400,
          400,
          400,
          400
         ],
         "y": [
          1,
          2,
          3,
          4,
          5,
          10,
          20,
          30,
          40,
          50,
          60,
          1,
          2,
          3,
          4,
          5,
          10,
          20,
          30,
          40,
          50,
          60,
          1,
          2,
          3,
          4,
          5,
          10,
          20,
          30,
          40,
          50,
          60,
          1,
          2,
          3,
          4,
          5,
          10,
          20,
          30,
          40,
          50,
          60,
          1,
          2,
          3,
          4,
          5,
          10,
          20,
          30,
          40,
          50,
          60,
          1,
          2,
          3,
          4,
          5,
          10,
          20,
          30,
          40,
          50,
          60,
          1,
          2,
          3,
          4,
          5,
          10,
          20,
          30,
          40,
          50,
          60,
          1,
          2,
          3,
          4,
          5,
          10,
          20,
          30,
          40,
          50,
          60
         ],
         "z": [
          0.014672748659547348,
          0.01035619009856064,
          0.006918550409656061,
          0.00481865126028638,
          0.003692293148645647,
          0.0027307325516520552,
          0.0022933191764081384,
          0.0023996926657687445,
          0.002373824878364462,
          0.0024119844098284583,
          0.002399409160632668,
          0.014668259998696634,
          0.010355749405931274,
          0.006913138984804008,
          0.0048033503816227625,
          0.0036986084058753432,
          0.0027204124836429787,
          0.0022335525126410912,
          0.0022885001573310928,
          0.0022688106750753073,
          0.002270930867644158,
          0.002243640382488517,
          0.014666556909265124,
          0.01035620431585754,
          0.006918195637937349,
          0.0047954441461513266,
          0.0036971546892382513,
          0.002719284510813438,
          0.002193472253327686,
          0.0022155045010124243,
          0.002219427229559819,
          0.002229145487343813,
          0.0022097311717312914,
          0.014667274281705238,
          0.010356258338249165,
          0.006911907930716308,
          0.004801803978246817,
          0.0037017745635295287,
          0.0026961616982277142,
          0.002185555978132206,
          0.0022049657609779405,
          0.0022103394939676307,
          0.0022191164962438842,
          0.0021801392001397067,
          0.014666012436808802,
          0.010353973164915832,
          0.006912285407592338,
          0.004799607763146565,
          0.003693081487190222,
          0.002702295650649185,
          0.002181437171849107,
          0.0021992288859913438,
          0.0021981014014681114,
          0.0021887112697932583,
          0.0022094785148058954,
          0.01466554581997365,
          0.010353951621158363,
          0.00691215873568481,
          0.004796342964695586,
          0.003692426772454342,
          0.0026989317540590126,
          0.0021880585519872984,
          0.002205277640553723,
          0.00221381759663949,
          0.002183266634791883,
          0.002210146998833449,
          0.014665901756911936,
          0.01035431372221908,
          0.006915824211821428,
          0.004802054412752425,
          0.0036964468813297014,
          0.002691994084662302,
          0.002182348368437324,
          0.002185016705115667,
          0.00219177842910707,
          0.0022002047090788636,
          0.002206735158237508,
          0.014665961012540203,
          0.010354386595497188,
          0.006912381038517758,
          0.004793922272659014,
          0.003698304965133946,
          0.002702416913964579,
          0.002179963216791013,
          0.002190487616793463,
          0.002183713419639516,
          0.002197661490864903,
          0.0021897977810815725
         ]
        },
        {
         "marker": {
          "color": [
           0.014672748659547348,
           0.01035619009856064,
           0.006918550409656061,
           0.00481865126028638,
           0.003692293148645647,
           0.0027307325516520552,
           0.0022933191764081384,
           0.0023996926657687445,
           0.002373824878364462,
           0.0024119844098284583,
           0.002399409160632668,
           0.014668259998696634,
           0.010355749405931274,
           0.006913138984804008,
           0.0048033503816227625,
           0.0036986084058753432,
           0.0027204124836429787,
           0.0022335525126410912,
           0.0022885001573310928,
           0.0022688106750753073,
           0.002270930867644158,
           0.002243640382488517,
           0.014666556909265124,
           0.01035620431585754,
           0.006918195637937349,
           0.0047954441461513266,
           0.0036971546892382513,
           0.002719284510813438,
           0.002193472253327686,
           0.0022155045010124243,
           0.002219427229559819,
           0.002229145487343813,
           0.0022097311717312914,
           0.014667274281705238,
           0.010356258338249165,
           0.006911907930716308,
           0.004801803978246817,
           0.0037017745635295287,
           0.0026961616982277142,
           0.002185555978132206,
           0.0022049657609779405,
           0.0022103394939676307,
           0.0022191164962438842,
           0.0021801392001397067,
           0.014666012436808802,
           0.010353973164915832,
           0.006912285407592338,
           0.004799607763146565,
           0.003693081487190222,
           0.002702295650649185,
           0.002181437171849107,
           0.0021992288859913438,
           0.0021981014014681114,
           0.0021887112697932583,
           0.0022094785148058954,
           0.01466554581997365,
           0.010353951621158363,
           0.00691215873568481,
           0.004796342964695586,
           0.003692426772454342,
           0.0026989317540590126,
           0.0021880585519872984,
           0.002205277640553723,
           0.00221381759663949,
           0.002183266634791883,
           0.002210146998833449,
           0.014665901756911936,
           0.01035431372221908,
           0.006915824211821428,
           0.004802054412752425,
           0.0036964468813297014,
           0.002691994084662302,
           0.002182348368437324,
           0.002185016705115667,
           0.00219177842910707,
           0.0022002047090788636,
           0.002206735158237508,
           0.014665961012540203,
           0.010354386595497188,
           0.006912381038517758,
           0.004793922272659014,
           0.003698304965133946,
           0.002702416913964579,
           0.002179963216791013,
           0.002190487616793463,
           0.002183713419639516,
           0.002197661490864903,
           0.0021897977810815725
          ],
          "colorscale": [
           [
            0,
            "#440154"
           ],
           [
            0.1111111111111111,
            "#482878"
           ],
           [
            0.2222222222222222,
            "#3e4989"
           ],
           [
            0.3333333333333333,
            "#31688e"
           ],
           [
            0.4444444444444444,
            "#26828e"
           ],
           [
            0.5555555555555556,
            "#1f9e89"
           ],
           [
            0.6666666666666666,
            "#35b779"
           ],
           [
            0.7777777777777778,
            "#6ece58"
           ],
           [
            0.8888888888888888,
            "#b5de2b"
           ],
           [
            1,
            "#fde725"
           ]
          ],
          "opacity": 0.8,
          "size": 12
         },
         "mode": "markers",
         "type": "scatter3d",
         "x": [
          10,
          10,
          10,
          10,
          10,
          10,
          10,
          10,
          10,
          10,
          10,
          25,
          25,
          25,
          25,
          25,
          25,
          25,
          25,
          25,
          25,
          25,
          50,
          50,
          50,
          50,
          50,
          50,
          50,
          50,
          50,
          50,
          50,
          100,
          100,
          100,
          100,
          100,
          100,
          100,
          100,
          100,
          100,
          100,
          150,
          150,
          150,
          150,
          150,
          150,
          150,
          150,
          150,
          150,
          150,
          200,
          200,
          200,
          200,
          200,
          200,
          200,
          200,
          200,
          200,
          200,
          300,
          300,
          300,
          300,
          300,
          300,
          300,
          300,
          300,
          300,
          300,
          400,
          400,
          400,
          400,
          400,
          400,
          400,
          400,
          400,
          400,
          400
         ],
         "y": [
          1,
          2,
          3,
          4,
          5,
          10,
          20,
          30,
          40,
          50,
          60,
          1,
          2,
          3,
          4,
          5,
          10,
          20,
          30,
          40,
          50,
          60,
          1,
          2,
          3,
          4,
          5,
          10,
          20,
          30,
          40,
          50,
          60,
          1,
          2,
          3,
          4,
          5,
          10,
          20,
          30,
          40,
          50,
          60,
          1,
          2,
          3,
          4,
          5,
          10,
          20,
          30,
          40,
          50,
          60,
          1,
          2,
          3,
          4,
          5,
          10,
          20,
          30,
          40,
          50,
          60,
          1,
          2,
          3,
          4,
          5,
          10,
          20,
          30,
          40,
          50,
          60,
          1,
          2,
          3,
          4,
          5,
          10,
          20,
          30,
          40,
          50,
          60
         ],
         "z": [
          0.014672748659547348,
          0.01035619009856064,
          0.006918550409656061,
          0.00481865126028638,
          0.003692293148645647,
          0.0027307325516520552,
          0.0022933191764081384,
          0.0023996926657687445,
          0.002373824878364462,
          0.0024119844098284583,
          0.002399409160632668,
          0.014668259998696634,
          0.010355749405931274,
          0.006913138984804008,
          0.0048033503816227625,
          0.0036986084058753432,
          0.0027204124836429787,
          0.0022335525126410912,
          0.0022885001573310928,
          0.0022688106750753073,
          0.002270930867644158,
          0.002243640382488517,
          0.014666556909265124,
          0.01035620431585754,
          0.006918195637937349,
          0.0047954441461513266,
          0.0036971546892382513,
          0.002719284510813438,
          0.002193472253327686,
          0.0022155045010124243,
          0.002219427229559819,
          0.002229145487343813,
          0.0022097311717312914,
          0.014667274281705238,
          0.010356258338249165,
          0.006911907930716308,
          0.004801803978246817,
          0.0037017745635295287,
          0.0026961616982277142,
          0.002185555978132206,
          0.0022049657609779405,
          0.0022103394939676307,
          0.0022191164962438842,
          0.0021801392001397067,
          0.014666012436808802,
          0.010353973164915832,
          0.006912285407592338,
          0.004799607763146565,
          0.003693081487190222,
          0.002702295650649185,
          0.002181437171849107,
          0.0021992288859913438,
          0.0021981014014681114,
          0.0021887112697932583,
          0.0022094785148058954,
          0.01466554581997365,
          0.010353951621158363,
          0.00691215873568481,
          0.004796342964695586,
          0.003692426772454342,
          0.0026989317540590126,
          0.0021880585519872984,
          0.002205277640553723,
          0.00221381759663949,
          0.002183266634791883,
          0.002210146998833449,
          0.014665901756911936,
          0.01035431372221908,
          0.006915824211821428,
          0.004802054412752425,
          0.0036964468813297014,
          0.002691994084662302,
          0.002182348368437324,
          0.002185016705115667,
          0.00219177842910707,
          0.0022002047090788636,
          0.002206735158237508,
          0.014665961012540203,
          0.010354386595497188,
          0.006912381038517758,
          0.004793922272659014,
          0.003698304965133946,
          0.002702416913964579,
          0.002179963216791013,
          0.002190487616793463,
          0.002183713419639516,
          0.002197661490864903,
          0.0021897977810815725
         ]
        }
       ],
       "layout": {
        "scene": {
         "xaxis": {
          "title": {
           "text": "Number of Estimators"
          }
         },
         "yaxis": {
          "title": {
           "text": "Max Depth"
          }
         },
         "zaxis": {
          "title": {
           "text": "Mean Squared Error"
          }
         }
        },
        "template": {
         "data": {
          "bar": [
           {
            "error_x": {
             "color": "#2a3f5f"
            },
            "error_y": {
             "color": "#2a3f5f"
            },
            "marker": {
             "line": {
              "color": "#E5ECF6",
              "width": 0.5
             },
             "pattern": {
              "fillmode": "overlay",
              "size": 10,
              "solidity": 0.2
             }
            },
            "type": "bar"
           }
          ],
          "barpolar": [
           {
            "marker": {
             "line": {
              "color": "#E5ECF6",
              "width": 0.5
             },
             "pattern": {
              "fillmode": "overlay",
              "size": 10,
              "solidity": 0.2
             }
            },
            "type": "barpolar"
           }
          ],
          "carpet": [
           {
            "aaxis": {
             "endlinecolor": "#2a3f5f",
             "gridcolor": "white",
             "linecolor": "white",
             "minorgridcolor": "white",
             "startlinecolor": "#2a3f5f"
            },
            "baxis": {
             "endlinecolor": "#2a3f5f",
             "gridcolor": "white",
             "linecolor": "white",
             "minorgridcolor": "white",
             "startlinecolor": "#2a3f5f"
            },
            "type": "carpet"
           }
          ],
          "choropleth": [
           {
            "colorbar": {
             "outlinewidth": 0,
             "ticks": ""
            },
            "type": "choropleth"
           }
          ],
          "contour": [
           {
            "colorbar": {
             "outlinewidth": 0,
             "ticks": ""
            },
            "colorscale": [
             [
              0,
              "#0d0887"
             ],
             [
              0.1111111111111111,
              "#46039f"
             ],
             [
              0.2222222222222222,
              "#7201a8"
             ],
             [
              0.3333333333333333,
              "#9c179e"
             ],
             [
              0.4444444444444444,
              "#bd3786"
             ],
             [
              0.5555555555555556,
              "#d8576b"
             ],
             [
              0.6666666666666666,
              "#ed7953"
             ],
             [
              0.7777777777777778,
              "#fb9f3a"
             ],
             [
              0.8888888888888888,
              "#fdca26"
             ],
             [
              1,
              "#f0f921"
             ]
            ],
            "type": "contour"
           }
          ],
          "contourcarpet": [
           {
            "colorbar": {
             "outlinewidth": 0,
             "ticks": ""
            },
            "type": "contourcarpet"
           }
          ],
          "heatmap": [
           {
            "colorbar": {
             "outlinewidth": 0,
             "ticks": ""
            },
            "colorscale": [
             [
              0,
              "#0d0887"
             ],
             [
              0.1111111111111111,
              "#46039f"
             ],
             [
              0.2222222222222222,
              "#7201a8"
             ],
             [
              0.3333333333333333,
              "#9c179e"
             ],
             [
              0.4444444444444444,
              "#bd3786"
             ],
             [
              0.5555555555555556,
              "#d8576b"
             ],
             [
              0.6666666666666666,
              "#ed7953"
             ],
             [
              0.7777777777777778,
              "#fb9f3a"
             ],
             [
              0.8888888888888888,
              "#fdca26"
             ],
             [
              1,
              "#f0f921"
             ]
            ],
            "type": "heatmap"
           }
          ],
          "heatmapgl": [
           {
            "colorbar": {
             "outlinewidth": 0,
             "ticks": ""
            },
            "colorscale": [
             [
              0,
              "#0d0887"
             ],
             [
              0.1111111111111111,
              "#46039f"
             ],
             [
              0.2222222222222222,
              "#7201a8"
             ],
             [
              0.3333333333333333,
              "#9c179e"
             ],
             [
              0.4444444444444444,
              "#bd3786"
             ],
             [
              0.5555555555555556,
              "#d8576b"
             ],
             [
              0.6666666666666666,
              "#ed7953"
             ],
             [
              0.7777777777777778,
              "#fb9f3a"
             ],
             [
              0.8888888888888888,
              "#fdca26"
             ],
             [
              1,
              "#f0f921"
             ]
            ],
            "type": "heatmapgl"
           }
          ],
          "histogram": [
           {
            "marker": {
             "pattern": {
              "fillmode": "overlay",
              "size": 10,
              "solidity": 0.2
             }
            },
            "type": "histogram"
           }
          ],
          "histogram2d": [
           {
            "colorbar": {
             "outlinewidth": 0,
             "ticks": ""
            },
            "colorscale": [
             [
              0,
              "#0d0887"
             ],
             [
              0.1111111111111111,
              "#46039f"
             ],
             [
              0.2222222222222222,
              "#7201a8"
             ],
             [
              0.3333333333333333,
              "#9c179e"
             ],
             [
              0.4444444444444444,
              "#bd3786"
             ],
             [
              0.5555555555555556,
              "#d8576b"
             ],
             [
              0.6666666666666666,
              "#ed7953"
             ],
             [
              0.7777777777777778,
              "#fb9f3a"
             ],
             [
              0.8888888888888888,
              "#fdca26"
             ],
             [
              1,
              "#f0f921"
             ]
            ],
            "type": "histogram2d"
           }
          ],
          "histogram2dcontour": [
           {
            "colorbar": {
             "outlinewidth": 0,
             "ticks": ""
            },
            "colorscale": [
             [
              0,
              "#0d0887"
             ],
             [
              0.1111111111111111,
              "#46039f"
             ],
             [
              0.2222222222222222,
              "#7201a8"
             ],
             [
              0.3333333333333333,
              "#9c179e"
             ],
             [
              0.4444444444444444,
              "#bd3786"
             ],
             [
              0.5555555555555556,
              "#d8576b"
             ],
             [
              0.6666666666666666,
              "#ed7953"
             ],
             [
              0.7777777777777778,
              "#fb9f3a"
             ],
             [
              0.8888888888888888,
              "#fdca26"
             ],
             [
              1,
              "#f0f921"
             ]
            ],
            "type": "histogram2dcontour"
           }
          ],
          "mesh3d": [
           {
            "colorbar": {
             "outlinewidth": 0,
             "ticks": ""
            },
            "type": "mesh3d"
           }
          ],
          "parcoords": [
           {
            "line": {
             "colorbar": {
              "outlinewidth": 0,
              "ticks": ""
             }
            },
            "type": "parcoords"
           }
          ],
          "pie": [
           {
            "automargin": true,
            "type": "pie"
           }
          ],
          "scatter": [
           {
            "fillpattern": {
             "fillmode": "overlay",
             "size": 10,
             "solidity": 0.2
            },
            "type": "scatter"
           }
          ],
          "scatter3d": [
           {
            "line": {
             "colorbar": {
              "outlinewidth": 0,
              "ticks": ""
             }
            },
            "marker": {
             "colorbar": {
              "outlinewidth": 0,
              "ticks": ""
             }
            },
            "type": "scatter3d"
           }
          ],
          "scattercarpet": [
           {
            "marker": {
             "colorbar": {
              "outlinewidth": 0,
              "ticks": ""
             }
            },
            "type": "scattercarpet"
           }
          ],
          "scattergeo": [
           {
            "marker": {
             "colorbar": {
              "outlinewidth": 0,
              "ticks": ""
             }
            },
            "type": "scattergeo"
           }
          ],
          "scattergl": [
           {
            "marker": {
             "colorbar": {
              "outlinewidth": 0,
              "ticks": ""
             }
            },
            "type": "scattergl"
           }
          ],
          "scattermapbox": [
           {
            "marker": {
             "colorbar": {
              "outlinewidth": 0,
              "ticks": ""
             }
            },
            "type": "scattermapbox"
           }
          ],
          "scatterpolar": [
           {
            "marker": {
             "colorbar": {
              "outlinewidth": 0,
              "ticks": ""
             }
            },
            "type": "scatterpolar"
           }
          ],
          "scatterpolargl": [
           {
            "marker": {
             "colorbar": {
              "outlinewidth": 0,
              "ticks": ""
             }
            },
            "type": "scatterpolargl"
           }
          ],
          "scatterternary": [
           {
            "marker": {
             "colorbar": {
              "outlinewidth": 0,
              "ticks": ""
             }
            },
            "type": "scatterternary"
           }
          ],
          "surface": [
           {
            "colorbar": {
             "outlinewidth": 0,
             "ticks": ""
            },
            "colorscale": [
             [
              0,
              "#0d0887"
             ],
             [
              0.1111111111111111,
              "#46039f"
             ],
             [
              0.2222222222222222,
              "#7201a8"
             ],
             [
              0.3333333333333333,
              "#9c179e"
             ],
             [
              0.4444444444444444,
              "#bd3786"
             ],
             [
              0.5555555555555556,
              "#d8576b"
             ],
             [
              0.6666666666666666,
              "#ed7953"
             ],
             [
              0.7777777777777778,
              "#fb9f3a"
             ],
             [
              0.8888888888888888,
              "#fdca26"
             ],
             [
              1,
              "#f0f921"
             ]
            ],
            "type": "surface"
           }
          ],
          "table": [
           {
            "cells": {
             "fill": {
              "color": "#EBF0F8"
             },
             "line": {
              "color": "white"
             }
            },
            "header": {
             "fill": {
              "color": "#C8D4E3"
             },
             "line": {
              "color": "white"
             }
            },
            "type": "table"
           }
          ]
         },
         "layout": {
          "annotationdefaults": {
           "arrowcolor": "#2a3f5f",
           "arrowhead": 0,
           "arrowwidth": 1
          },
          "autotypenumbers": "strict",
          "coloraxis": {
           "colorbar": {
            "outlinewidth": 0,
            "ticks": ""
           }
          },
          "colorscale": {
           "diverging": [
            [
             0,
             "#8e0152"
            ],
            [
             0.1,
             "#c51b7d"
            ],
            [
             0.2,
             "#de77ae"
            ],
            [
             0.3,
             "#f1b6da"
            ],
            [
             0.4,
             "#fde0ef"
            ],
            [
             0.5,
             "#f7f7f7"
            ],
            [
             0.6,
             "#e6f5d0"
            ],
            [
             0.7,
             "#b8e186"
            ],
            [
             0.8,
             "#7fbc41"
            ],
            [
             0.9,
             "#4d9221"
            ],
            [
             1,
             "#276419"
            ]
           ],
           "sequential": [
            [
             0,
             "#0d0887"
            ],
            [
             0.1111111111111111,
             "#46039f"
            ],
            [
             0.2222222222222222,
             "#7201a8"
            ],
            [
             0.3333333333333333,
             "#9c179e"
            ],
            [
             0.4444444444444444,
             "#bd3786"
            ],
            [
             0.5555555555555556,
             "#d8576b"
            ],
            [
             0.6666666666666666,
             "#ed7953"
            ],
            [
             0.7777777777777778,
             "#fb9f3a"
            ],
            [
             0.8888888888888888,
             "#fdca26"
            ],
            [
             1,
             "#f0f921"
            ]
           ],
           "sequentialminus": [
            [
             0,
             "#0d0887"
            ],
            [
             0.1111111111111111,
             "#46039f"
            ],
            [
             0.2222222222222222,
             "#7201a8"
            ],
            [
             0.3333333333333333,
             "#9c179e"
            ],
            [
             0.4444444444444444,
             "#bd3786"
            ],
            [
             0.5555555555555556,
             "#d8576b"
            ],
            [
             0.6666666666666666,
             "#ed7953"
            ],
            [
             0.7777777777777778,
             "#fb9f3a"
            ],
            [
             0.8888888888888888,
             "#fdca26"
            ],
            [
             1,
             "#f0f921"
            ]
           ]
          },
          "colorway": [
           "#636efa",
           "#EF553B",
           "#00cc96",
           "#ab63fa",
           "#FFA15A",
           "#19d3f3",
           "#FF6692",
           "#B6E880",
           "#FF97FF",
           "#FECB52"
          ],
          "font": {
           "color": "#2a3f5f"
          },
          "geo": {
           "bgcolor": "white",
           "lakecolor": "white",
           "landcolor": "#E5ECF6",
           "showlakes": true,
           "showland": true,
           "subunitcolor": "white"
          },
          "hoverlabel": {
           "align": "left"
          },
          "hovermode": "closest",
          "mapbox": {
           "style": "light"
          },
          "paper_bgcolor": "white",
          "plot_bgcolor": "#E5ECF6",
          "polar": {
           "angularaxis": {
            "gridcolor": "white",
            "linecolor": "white",
            "ticks": ""
           },
           "bgcolor": "#E5ECF6",
           "radialaxis": {
            "gridcolor": "white",
            "linecolor": "white",
            "ticks": ""
           }
          },
          "scene": {
           "xaxis": {
            "backgroundcolor": "#E5ECF6",
            "gridcolor": "white",
            "gridwidth": 2,
            "linecolor": "white",
            "showbackground": true,
            "ticks": "",
            "zerolinecolor": "white"
           },
           "yaxis": {
            "backgroundcolor": "#E5ECF6",
            "gridcolor": "white",
            "gridwidth": 2,
            "linecolor": "white",
            "showbackground": true,
            "ticks": "",
            "zerolinecolor": "white"
           },
           "zaxis": {
            "backgroundcolor": "#E5ECF6",
            "gridcolor": "white",
            "gridwidth": 2,
            "linecolor": "white",
            "showbackground": true,
            "ticks": "",
            "zerolinecolor": "white"
           }
          },
          "shapedefaults": {
           "line": {
            "color": "#2a3f5f"
           }
          },
          "ternary": {
           "aaxis": {
            "gridcolor": "white",
            "linecolor": "white",
            "ticks": ""
           },
           "baxis": {
            "gridcolor": "white",
            "linecolor": "white",
            "ticks": ""
           },
           "bgcolor": "#E5ECF6",
           "caxis": {
            "gridcolor": "white",
            "linecolor": "white",
            "ticks": ""
           }
          },
          "title": {
           "x": 0.05
          },
          "xaxis": {
           "automargin": true,
           "gridcolor": "white",
           "linecolor": "white",
           "ticks": "",
           "title": {
            "standoff": 15
           },
           "zerolinecolor": "white",
           "zerolinewidth": 2
          },
          "yaxis": {
           "automargin": true,
           "gridcolor": "white",
           "linecolor": "white",
           "ticks": "",
           "title": {
            "standoff": 15
           },
           "zerolinecolor": "white",
           "zerolinewidth": 2
          }
         }
        },
        "title": {
         "text": "MSE vs. Hyperparameters"
        }
       }
      }
     },
     "metadata": {},
     "output_type": "display_data"
    }
   ],
   "source": [
    "# Visualize how the MSE changes with different hyperparameters (3D meshgrid, rotatable plot))\n",
    "import plotly.graph_objects as go\n",
    "\n",
    "# Create DataFrame\n",
    "results_df = pd.DataFrame(results, columns=['n_estimators', 'max_depth', 'mse'])\n",
    "\n",
    "# Prepare data for 3D plot\n",
    "X = results_df['n_estimators']\n",
    "Y = results_df['max_depth']\n",
    "Z = results_df['mse']\n",
    "\n",
    "# Create 3D plot\n",
    "fig = go.Figure(data=[go.Mesh3d(x=X, y=Y, z=Z, color='lightblue', opacity=0.50)], layout=go.Layout(title='MSE vs. Hyperparameters'))\n",
    "\n",
    "# Color the plot based on mse value\n",
    "fig.add_trace(go.Scatter3d(x=X, y=Y, z=Z, mode='markers', marker=dict(size=12, color=Z, colorscale='Viridis', opacity=0.8)))\n",
    "\n",
    "# Update layout\n",
    "fig.update_layout(\n",
    "    scene=dict(\n",
    "        xaxis_title='Number of Estimators',\n",
    "        yaxis_title='Max Depth',\n",
    "        zaxis_title='Mean Squared Error'\n",
    "    )\n",
    ")\n",
    "\n",
    "# Show plot\n",
    "fig.show()"
   ]
  },
  {
   "cell_type": "markdown",
   "metadata": {},
   "source": [
    "#### Part 4.4: Random Forest Conclusion\n",
    "\n",
    "Based on the above results of Grid Search, we see that the best hyperparameters for the Random Forest model are `n_estimators=400` and `max_depth=30`. The MSE for this model is `8.782553467944984e-06`, which is a good value to shoot for given our output is a percentage. This means that the model is able to predict the readmission rate with an error of 0.0008782553467944984, which is a very small error on the scale of 0-1 that our output is on.\n",
    "\n",
    "Evaluating why these parameters likely were the sweet-spot for accuracy while balancing the number of trees and branches within those trees, I believe that the model was able to capture the complexity of the data while not overfitting. The model was able to generalize well to the test data and predict the readmission rate with a very small error.\n"
   ]
  },
  {
   "cell_type": "markdown",
   "metadata": {},
   "source": [
    "## Part 5: Gradient Boosting Predictions\n",
    "\n",
    "Beyond `Random Forest`, another great application of machine learning to regression problems is `Gradient Boosting`. If you don't know what Gradient Boosting is, you can read more about it [here](https://en.wikipedia.org/wiki/Gradient_boosting). In summary, Gradient Boosting is a machine learning technique for regression and classification problems that produces a prediction model in the form of an ensemble of weak prediction models, typically decision trees. It builds the model in a stage-wise fashion like other boosting methods do, and it generalizes them by allowing optimization of an arbitrary differentiable loss function.\n",
    "\n",
    "To summarize the difference between `Gradient Boosting` and `Random Forests`, the main difference is that `Gradient Boosting` builds trees sequentially, where each tree tries to correct the mistakes of the previous one. On the other hand, `Random Forests` builds trees independently, where each tree is built from a sample of the data.\n",
    "\n",
    "This section will be an evaluation similar to that seen in `Part 2`, allowing comparison of the two approaches to this domain."
   ]
  },
  {
   "cell_type": "code",
   "execution_count": null,
   "metadata": {},
   "outputs": [],
   "source": [
    "# TODO\n",
    "\n",
    "# NOTE: If these models are too good, could make a bigger split\n",
    "# NOTE: When testing, you should have a validation set\n",
    "# NOTE: Could try the model without doing feature engineering\n",
    "# NOTE: After gradient boosting, could do a simple neural network (non-deep) to see if we even need the complex deep learning models"
   ]
  }
 ],
 "metadata": {
  "kernelspec": {
   "display_name": "Python 3",
   "language": "python",
   "name": "python3"
  },
  "language_info": {
   "codemirror_mode": {
    "name": "ipython",
    "version": 3
   },
   "file_extension": ".py",
   "mimetype": "text/x-python",
   "name": "python",
   "nbconvert_exporter": "python",
   "pygments_lexer": "ipython3",
   "version": "3.12.2"
  }
 },
 "nbformat": 4,
 "nbformat_minor": 2
}
